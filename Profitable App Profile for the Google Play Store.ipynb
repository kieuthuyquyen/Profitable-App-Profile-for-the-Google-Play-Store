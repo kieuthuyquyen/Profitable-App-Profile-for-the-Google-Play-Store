{
 "cells": [
  {
   "cell_type": "markdown",
   "id": "22b5ebc0",
   "metadata": {},
   "source": [
    "<h1><center>Profitable app profile for the Google Play Store</center></h1> \n",
    "<img src=\"https://buildfire.com/wp-content/uploads/2017/11/what-type-of-apps-make-the-most-money-a-data-driven-answer-1200x900.jpg\" width=500/>\n",
    "\n",
    "The purpose of this project is to analyze possible factors that make an app popular on Google Play Store, based on sample data collected in 2017 which contains details of more than ten thousand android apps. The sample data can be downloaded from [this link](https://www.kaggle.com/ramamet4/app-store-apple-data-set-10k-apps).\n",
    "\n",
    "Our company wants to build an android app that is free to download and install; the source of revenue will come from in-app ads. This means that the number of active users of our app determines our revenue - the more users engage with the ads, the better. Our goal as a data analyst is to help developers understand what kind of apps are more likely to attract users in order to build a profitable app.\n",
    "\n",
    "In this project, we'll go through a process of cleaning the data, analyzing it to find patterns, and visualizing cleaned data at the last step to make it clearer and easier for stakeholders to understand and make a data-driven decision."
   ]
  },
  {
   "cell_type": "markdown",
   "id": "1aeec04e",
   "metadata": {},
   "source": [
    "## I. Open and explore the data "
   ]
  },
  {
   "cell_type": "code",
   "execution_count": 1,
   "id": "1d60a4c8",
   "metadata": {},
   "outputs": [],
   "source": [
    "# Import libraries \n",
    "\n",
    "import pandas as pd\n",
    "import numpy as np\n",
    "import matplotlib.pyplot as plt\n",
    "%matplotlib inline\n",
    "\n",
    "import warnings\n",
    "warnings.filterwarnings(\"ignore\")"
   ]
  },
  {
   "cell_type": "code",
   "execution_count": 2,
   "id": "d170b656",
   "metadata": {},
   "outputs": [],
   "source": [
    "android = pd.read_csv('googleplaystore.csv')"
   ]
  },
  {
   "cell_type": "code",
   "execution_count": 3,
   "id": "b545e8e2",
   "metadata": {
    "scrolled": true
   },
   "outputs": [
    {
     "name": "stdout",
     "output_type": "stream",
     "text": [
      "<class 'pandas.core.frame.DataFrame'>\n",
      "RangeIndex: 10841 entries, 0 to 10840\n",
      "Data columns (total 13 columns):\n",
      " #   Column          Non-Null Count  Dtype  \n",
      "---  ------          --------------  -----  \n",
      " 0   App             10841 non-null  object \n",
      " 1   Category        10841 non-null  object \n",
      " 2   Rating          9367 non-null   float64\n",
      " 3   Reviews         10841 non-null  object \n",
      " 4   Size            10841 non-null  object \n",
      " 5   Installs        10841 non-null  object \n",
      " 6   Type            10840 non-null  object \n",
      " 7   Price           10841 non-null  object \n",
      " 8   Content Rating  10840 non-null  object \n",
      " 9   Genres          10841 non-null  object \n",
      " 10  Last Updated    10841 non-null  object \n",
      " 11  Current Ver     10833 non-null  object \n",
      " 12  Android Ver     10838 non-null  object \n",
      "dtypes: float64(1), object(12)\n",
      "memory usage: 1.1+ MB\n"
     ]
    }
   ],
   "source": [
    "android.info()"
   ]
  },
  {
   "cell_type": "code",
   "execution_count": 4,
   "id": "3ebd7765",
   "metadata": {},
   "outputs": [
    {
     "data": {
      "text/html": [
       "<div>\n",
       "<style scoped>\n",
       "    .dataframe tbody tr th:only-of-type {\n",
       "        vertical-align: middle;\n",
       "    }\n",
       "\n",
       "    .dataframe tbody tr th {\n",
       "        vertical-align: top;\n",
       "    }\n",
       "\n",
       "    .dataframe thead th {\n",
       "        text-align: right;\n",
       "    }\n",
       "</style>\n",
       "<table border=\"1\" class=\"dataframe\">\n",
       "  <thead>\n",
       "    <tr style=\"text-align: right;\">\n",
       "      <th></th>\n",
       "      <th>App</th>\n",
       "      <th>Category</th>\n",
       "      <th>Rating</th>\n",
       "      <th>Reviews</th>\n",
       "      <th>Size</th>\n",
       "      <th>Installs</th>\n",
       "      <th>Type</th>\n",
       "      <th>Price</th>\n",
       "      <th>Content Rating</th>\n",
       "      <th>Genres</th>\n",
       "      <th>Last Updated</th>\n",
       "      <th>Current Ver</th>\n",
       "      <th>Android Ver</th>\n",
       "    </tr>\n",
       "  </thead>\n",
       "  <tbody>\n",
       "    <tr>\n",
       "      <th>0</th>\n",
       "      <td>Photo Editor &amp; Candy Camera &amp; Grid &amp; ScrapBook</td>\n",
       "      <td>ART_AND_DESIGN</td>\n",
       "      <td>4.1</td>\n",
       "      <td>159</td>\n",
       "      <td>19M</td>\n",
       "      <td>10,000+</td>\n",
       "      <td>Free</td>\n",
       "      <td>0</td>\n",
       "      <td>Everyone</td>\n",
       "      <td>Art &amp; Design</td>\n",
       "      <td>January 7, 2018</td>\n",
       "      <td>1.0.0</td>\n",
       "      <td>4.0.3 and up</td>\n",
       "    </tr>\n",
       "    <tr>\n",
       "      <th>1</th>\n",
       "      <td>Coloring book moana</td>\n",
       "      <td>ART_AND_DESIGN</td>\n",
       "      <td>3.9</td>\n",
       "      <td>967</td>\n",
       "      <td>14M</td>\n",
       "      <td>500,000+</td>\n",
       "      <td>Free</td>\n",
       "      <td>0</td>\n",
       "      <td>Everyone</td>\n",
       "      <td>Art &amp; Design;Pretend Play</td>\n",
       "      <td>January 15, 2018</td>\n",
       "      <td>2.0.0</td>\n",
       "      <td>4.0.3 and up</td>\n",
       "    </tr>\n",
       "    <tr>\n",
       "      <th>2</th>\n",
       "      <td>U Launcher Lite – FREE Live Cool Themes, Hide ...</td>\n",
       "      <td>ART_AND_DESIGN</td>\n",
       "      <td>4.7</td>\n",
       "      <td>87510</td>\n",
       "      <td>8.7M</td>\n",
       "      <td>5,000,000+</td>\n",
       "      <td>Free</td>\n",
       "      <td>0</td>\n",
       "      <td>Everyone</td>\n",
       "      <td>Art &amp; Design</td>\n",
       "      <td>August 1, 2018</td>\n",
       "      <td>1.2.4</td>\n",
       "      <td>4.0.3 and up</td>\n",
       "    </tr>\n",
       "    <tr>\n",
       "      <th>3</th>\n",
       "      <td>Sketch - Draw &amp; Paint</td>\n",
       "      <td>ART_AND_DESIGN</td>\n",
       "      <td>4.5</td>\n",
       "      <td>215644</td>\n",
       "      <td>25M</td>\n",
       "      <td>50,000,000+</td>\n",
       "      <td>Free</td>\n",
       "      <td>0</td>\n",
       "      <td>Teen</td>\n",
       "      <td>Art &amp; Design</td>\n",
       "      <td>June 8, 2018</td>\n",
       "      <td>Varies with device</td>\n",
       "      <td>4.2 and up</td>\n",
       "    </tr>\n",
       "    <tr>\n",
       "      <th>4</th>\n",
       "      <td>Pixel Draw - Number Art Coloring Book</td>\n",
       "      <td>ART_AND_DESIGN</td>\n",
       "      <td>4.3</td>\n",
       "      <td>967</td>\n",
       "      <td>2.8M</td>\n",
       "      <td>100,000+</td>\n",
       "      <td>Free</td>\n",
       "      <td>0</td>\n",
       "      <td>Everyone</td>\n",
       "      <td>Art &amp; Design;Creativity</td>\n",
       "      <td>June 20, 2018</td>\n",
       "      <td>1.1</td>\n",
       "      <td>4.4 and up</td>\n",
       "    </tr>\n",
       "  </tbody>\n",
       "</table>\n",
       "</div>"
      ],
      "text/plain": [
       "                                                 App        Category  Rating  \\\n",
       "0     Photo Editor & Candy Camera & Grid & ScrapBook  ART_AND_DESIGN     4.1   \n",
       "1                                Coloring book moana  ART_AND_DESIGN     3.9   \n",
       "2  U Launcher Lite – FREE Live Cool Themes, Hide ...  ART_AND_DESIGN     4.7   \n",
       "3                              Sketch - Draw & Paint  ART_AND_DESIGN     4.5   \n",
       "4              Pixel Draw - Number Art Coloring Book  ART_AND_DESIGN     4.3   \n",
       "\n",
       "  Reviews  Size     Installs  Type Price Content Rating  \\\n",
       "0     159   19M      10,000+  Free     0       Everyone   \n",
       "1     967   14M     500,000+  Free     0       Everyone   \n",
       "2   87510  8.7M   5,000,000+  Free     0       Everyone   \n",
       "3  215644   25M  50,000,000+  Free     0           Teen   \n",
       "4     967  2.8M     100,000+  Free     0       Everyone   \n",
       "\n",
       "                      Genres      Last Updated         Current Ver  \\\n",
       "0               Art & Design   January 7, 2018               1.0.0   \n",
       "1  Art & Design;Pretend Play  January 15, 2018               2.0.0   \n",
       "2               Art & Design    August 1, 2018               1.2.4   \n",
       "3               Art & Design      June 8, 2018  Varies with device   \n",
       "4    Art & Design;Creativity     June 20, 2018                 1.1   \n",
       "\n",
       "    Android Ver  \n",
       "0  4.0.3 and up  \n",
       "1  4.0.3 and up  \n",
       "2  4.0.3 and up  \n",
       "3    4.2 and up  \n",
       "4    4.4 and up  "
      ]
     },
     "execution_count": 4,
     "metadata": {},
     "output_type": "execute_result"
    }
   ],
   "source": [
    "android.head()"
   ]
  },
  {
   "cell_type": "markdown",
   "id": "7cfe6976",
   "metadata": {},
   "source": [
    "## II. Clean data"
   ]
  },
  {
   "cell_type": "code",
   "execution_count": 5,
   "id": "a4098c7c",
   "metadata": {
    "scrolled": false
   },
   "outputs": [
    {
     "data": {
      "text/plain": [
       "Index(['app', 'category', 'rating', 'reviews', 'size', 'installs', 'type',\n",
       "       'price', 'content_rating', 'genres', 'last_updated', 'current_ver',\n",
       "       'android_ver'],\n",
       "      dtype='object')"
      ]
     },
     "execution_count": 5,
     "metadata": {},
     "output_type": "execute_result"
    }
   ],
   "source": [
    "# Update column names: convert to lowercase and replace space with underscore\n",
    "\n",
    "android.columns = android.columns.str.lower()\n",
    "android.columns = android.columns.str.replace(' ', \"_\")\n",
    "android.columns"
   ]
  },
  {
   "cell_type": "code",
   "execution_count": 6,
   "id": "6080d965",
   "metadata": {},
   "outputs": [
    {
     "data": {
      "text/html": [
       "<div>\n",
       "<style scoped>\n",
       "    .dataframe tbody tr th:only-of-type {\n",
       "        vertical-align: middle;\n",
       "    }\n",
       "\n",
       "    .dataframe tbody tr th {\n",
       "        vertical-align: top;\n",
       "    }\n",
       "\n",
       "    .dataframe thead th {\n",
       "        text-align: right;\n",
       "    }\n",
       "</style>\n",
       "<table border=\"1\" class=\"dataframe\">\n",
       "  <thead>\n",
       "    <tr style=\"text-align: right;\">\n",
       "      <th></th>\n",
       "      <th>app</th>\n",
       "      <th>category</th>\n",
       "      <th>rating</th>\n",
       "      <th>reviews</th>\n",
       "      <th>size</th>\n",
       "      <th>installs</th>\n",
       "      <th>type</th>\n",
       "      <th>price</th>\n",
       "      <th>content_rating</th>\n",
       "      <th>genres</th>\n",
       "      <th>last_updated</th>\n",
       "      <th>current_ver</th>\n",
       "      <th>android_ver</th>\n",
       "    </tr>\n",
       "  </thead>\n",
       "  <tbody>\n",
       "    <tr>\n",
       "      <th>10472</th>\n",
       "      <td>Life Made WI-Fi Touchscreen Photo Frame</td>\n",
       "      <td>1.9</td>\n",
       "      <td>19.0</td>\n",
       "      <td>3.0M</td>\n",
       "      <td>1,000+</td>\n",
       "      <td>Free</td>\n",
       "      <td>0</td>\n",
       "      <td>Everyone</td>\n",
       "      <td>NaN</td>\n",
       "      <td>February 11, 2018</td>\n",
       "      <td>1.0.19</td>\n",
       "      <td>4.0 and up</td>\n",
       "      <td>NaN</td>\n",
       "    </tr>\n",
       "  </tbody>\n",
       "</table>\n",
       "</div>"
      ],
      "text/plain": [
       "                                           app category  rating reviews  \\\n",
       "10472  Life Made WI-Fi Touchscreen Photo Frame      1.9    19.0    3.0M   \n",
       "\n",
       "         size installs type     price content_rating             genres  \\\n",
       "10472  1,000+     Free    0  Everyone            NaN  February 11, 2018   \n",
       "\n",
       "      last_updated current_ver android_ver  \n",
       "10472       1.0.19  4.0 and up         NaN  "
      ]
     },
     "execution_count": 6,
     "metadata": {},
     "output_type": "execute_result"
    }
   ],
   "source": [
    "# Check whether there's any record with an invalid rating (rating > 5) \n",
    "\n",
    "android[android.rating > 5]"
   ]
  },
  {
   "cell_type": "code",
   "execution_count": 7,
   "id": "fa88a6f9",
   "metadata": {},
   "outputs": [],
   "source": [
    "# Remove the invalid record with rating > 5\n",
    "\n",
    "android = android.drop (index = 10472)"
   ]
  },
  {
   "cell_type": "markdown",
   "id": "d97e18f0",
   "metadata": {},
   "source": [
    "### 1. Handling duplicates"
   ]
  },
  {
   "cell_type": "code",
   "execution_count": 8,
   "id": "bb32bd32",
   "metadata": {},
   "outputs": [
    {
     "data": {
      "text/html": [
       "<div>\n",
       "<style scoped>\n",
       "    .dataframe tbody tr th:only-of-type {\n",
       "        vertical-align: middle;\n",
       "    }\n",
       "\n",
       "    .dataframe tbody tr th {\n",
       "        vertical-align: top;\n",
       "    }\n",
       "\n",
       "    .dataframe thead th {\n",
       "        text-align: right;\n",
       "    }\n",
       "</style>\n",
       "<table border=\"1\" class=\"dataframe\">\n",
       "  <thead>\n",
       "    <tr style=\"text-align: right;\">\n",
       "      <th></th>\n",
       "      <th>app</th>\n",
       "      <th>category</th>\n",
       "      <th>rating</th>\n",
       "      <th>reviews</th>\n",
       "      <th>size</th>\n",
       "      <th>installs</th>\n",
       "      <th>type</th>\n",
       "      <th>price</th>\n",
       "      <th>content_rating</th>\n",
       "      <th>genres</th>\n",
       "      <th>last_updated</th>\n",
       "      <th>current_ver</th>\n",
       "      <th>android_ver</th>\n",
       "    </tr>\n",
       "  </thead>\n",
       "  <tbody>\n",
       "    <tr>\n",
       "      <th>229</th>\n",
       "      <td>Quick PDF Scanner + OCR FREE</td>\n",
       "      <td>BUSINESS</td>\n",
       "      <td>4.2</td>\n",
       "      <td>80805</td>\n",
       "      <td>Varies with device</td>\n",
       "      <td>5,000,000+</td>\n",
       "      <td>Free</td>\n",
       "      <td>0</td>\n",
       "      <td>Everyone</td>\n",
       "      <td>Business</td>\n",
       "      <td>February 26, 2018</td>\n",
       "      <td>Varies with device</td>\n",
       "      <td>4.0.3 and up</td>\n",
       "    </tr>\n",
       "    <tr>\n",
       "      <th>236</th>\n",
       "      <td>Box</td>\n",
       "      <td>BUSINESS</td>\n",
       "      <td>4.2</td>\n",
       "      <td>159872</td>\n",
       "      <td>Varies with device</td>\n",
       "      <td>10,000,000+</td>\n",
       "      <td>Free</td>\n",
       "      <td>0</td>\n",
       "      <td>Everyone</td>\n",
       "      <td>Business</td>\n",
       "      <td>July 31, 2018</td>\n",
       "      <td>Varies with device</td>\n",
       "      <td>Varies with device</td>\n",
       "    </tr>\n",
       "    <tr>\n",
       "      <th>239</th>\n",
       "      <td>Google My Business</td>\n",
       "      <td>BUSINESS</td>\n",
       "      <td>4.4</td>\n",
       "      <td>70991</td>\n",
       "      <td>Varies with device</td>\n",
       "      <td>5,000,000+</td>\n",
       "      <td>Free</td>\n",
       "      <td>0</td>\n",
       "      <td>Everyone</td>\n",
       "      <td>Business</td>\n",
       "      <td>July 24, 2018</td>\n",
       "      <td>2.19.0.204537701</td>\n",
       "      <td>4.4 and up</td>\n",
       "    </tr>\n",
       "    <tr>\n",
       "      <th>256</th>\n",
       "      <td>ZOOM Cloud Meetings</td>\n",
       "      <td>BUSINESS</td>\n",
       "      <td>4.4</td>\n",
       "      <td>31614</td>\n",
       "      <td>37M</td>\n",
       "      <td>10,000,000+</td>\n",
       "      <td>Free</td>\n",
       "      <td>0</td>\n",
       "      <td>Everyone</td>\n",
       "      <td>Business</td>\n",
       "      <td>July 20, 2018</td>\n",
       "      <td>4.1.28165.0716</td>\n",
       "      <td>4.0 and up</td>\n",
       "    </tr>\n",
       "    <tr>\n",
       "      <th>261</th>\n",
       "      <td>join.me - Simple Meetings</td>\n",
       "      <td>BUSINESS</td>\n",
       "      <td>4.0</td>\n",
       "      <td>6989</td>\n",
       "      <td>Varies with device</td>\n",
       "      <td>1,000,000+</td>\n",
       "      <td>Free</td>\n",
       "      <td>0</td>\n",
       "      <td>Everyone</td>\n",
       "      <td>Business</td>\n",
       "      <td>July 16, 2018</td>\n",
       "      <td>4.3.0.508</td>\n",
       "      <td>4.4 and up</td>\n",
       "    </tr>\n",
       "    <tr>\n",
       "      <th>265</th>\n",
       "      <td>Box</td>\n",
       "      <td>BUSINESS</td>\n",
       "      <td>4.2</td>\n",
       "      <td>159872</td>\n",
       "      <td>Varies with device</td>\n",
       "      <td>10,000,000+</td>\n",
       "      <td>Free</td>\n",
       "      <td>0</td>\n",
       "      <td>Everyone</td>\n",
       "      <td>Business</td>\n",
       "      <td>July 31, 2018</td>\n",
       "      <td>Varies with device</td>\n",
       "      <td>Varies with device</td>\n",
       "    </tr>\n",
       "    <tr>\n",
       "      <th>266</th>\n",
       "      <td>Zenefits</td>\n",
       "      <td>BUSINESS</td>\n",
       "      <td>4.2</td>\n",
       "      <td>296</td>\n",
       "      <td>14M</td>\n",
       "      <td>50,000+</td>\n",
       "      <td>Free</td>\n",
       "      <td>0</td>\n",
       "      <td>Everyone</td>\n",
       "      <td>Business</td>\n",
       "      <td>June 15, 2018</td>\n",
       "      <td>3.2.1</td>\n",
       "      <td>4.1 and up</td>\n",
       "    </tr>\n",
       "    <tr>\n",
       "      <th>267</th>\n",
       "      <td>Google Ads</td>\n",
       "      <td>BUSINESS</td>\n",
       "      <td>4.3</td>\n",
       "      <td>29313</td>\n",
       "      <td>20M</td>\n",
       "      <td>5,000,000+</td>\n",
       "      <td>Free</td>\n",
       "      <td>0</td>\n",
       "      <td>Everyone</td>\n",
       "      <td>Business</td>\n",
       "      <td>July 30, 2018</td>\n",
       "      <td>1.12.0</td>\n",
       "      <td>4.0.3 and up</td>\n",
       "    </tr>\n",
       "    <tr>\n",
       "      <th>268</th>\n",
       "      <td>Google My Business</td>\n",
       "      <td>BUSINESS</td>\n",
       "      <td>4.4</td>\n",
       "      <td>70991</td>\n",
       "      <td>Varies with device</td>\n",
       "      <td>5,000,000+</td>\n",
       "      <td>Free</td>\n",
       "      <td>0</td>\n",
       "      <td>Everyone</td>\n",
       "      <td>Business</td>\n",
       "      <td>July 24, 2018</td>\n",
       "      <td>2.19.0.204537701</td>\n",
       "      <td>4.4 and up</td>\n",
       "    </tr>\n",
       "    <tr>\n",
       "      <th>269</th>\n",
       "      <td>Slack</td>\n",
       "      <td>BUSINESS</td>\n",
       "      <td>4.4</td>\n",
       "      <td>51507</td>\n",
       "      <td>Varies with device</td>\n",
       "      <td>5,000,000+</td>\n",
       "      <td>Free</td>\n",
       "      <td>0</td>\n",
       "      <td>Everyone</td>\n",
       "      <td>Business</td>\n",
       "      <td>August 2, 2018</td>\n",
       "      <td>Varies with device</td>\n",
       "      <td>Varies with device</td>\n",
       "    </tr>\n",
       "  </tbody>\n",
       "</table>\n",
       "</div>"
      ],
      "text/plain": [
       "                              app  category  rating reviews  \\\n",
       "229  Quick PDF Scanner + OCR FREE  BUSINESS     4.2   80805   \n",
       "236                           Box  BUSINESS     4.2  159872   \n",
       "239            Google My Business  BUSINESS     4.4   70991   \n",
       "256           ZOOM Cloud Meetings  BUSINESS     4.4   31614   \n",
       "261     join.me - Simple Meetings  BUSINESS     4.0    6989   \n",
       "265                           Box  BUSINESS     4.2  159872   \n",
       "266                      Zenefits  BUSINESS     4.2     296   \n",
       "267                    Google Ads  BUSINESS     4.3   29313   \n",
       "268            Google My Business  BUSINESS     4.4   70991   \n",
       "269                         Slack  BUSINESS     4.4   51507   \n",
       "\n",
       "                   size     installs  type price content_rating    genres  \\\n",
       "229  Varies with device   5,000,000+  Free     0       Everyone  Business   \n",
       "236  Varies with device  10,000,000+  Free     0       Everyone  Business   \n",
       "239  Varies with device   5,000,000+  Free     0       Everyone  Business   \n",
       "256                 37M  10,000,000+  Free     0       Everyone  Business   \n",
       "261  Varies with device   1,000,000+  Free     0       Everyone  Business   \n",
       "265  Varies with device  10,000,000+  Free     0       Everyone  Business   \n",
       "266                 14M      50,000+  Free     0       Everyone  Business   \n",
       "267                 20M   5,000,000+  Free     0       Everyone  Business   \n",
       "268  Varies with device   5,000,000+  Free     0       Everyone  Business   \n",
       "269  Varies with device   5,000,000+  Free     0       Everyone  Business   \n",
       "\n",
       "          last_updated         current_ver         android_ver  \n",
       "229  February 26, 2018  Varies with device        4.0.3 and up  \n",
       "236      July 31, 2018  Varies with device  Varies with device  \n",
       "239      July 24, 2018    2.19.0.204537701          4.4 and up  \n",
       "256      July 20, 2018      4.1.28165.0716          4.0 and up  \n",
       "261      July 16, 2018           4.3.0.508          4.4 and up  \n",
       "265      July 31, 2018  Varies with device  Varies with device  \n",
       "266      June 15, 2018               3.2.1          4.1 and up  \n",
       "267      July 30, 2018              1.12.0        4.0.3 and up  \n",
       "268      July 24, 2018    2.19.0.204537701          4.4 and up  \n",
       "269     August 2, 2018  Varies with device  Varies with device  "
      ]
     },
     "execution_count": 8,
     "metadata": {},
     "output_type": "execute_result"
    }
   ],
   "source": [
    "# Find duplicate records (records with same app name)\n",
    "\n",
    "duplicate_android = android[android.duplicated(['app'])]\n",
    "duplicate_android.head(10)"
   ]
  },
  {
   "cell_type": "code",
   "execution_count": 9,
   "id": "9147adaa",
   "metadata": {
    "scrolled": true
   },
   "outputs": [
    {
     "data": {
      "text/html": [
       "<div>\n",
       "<style scoped>\n",
       "    .dataframe tbody tr th:only-of-type {\n",
       "        vertical-align: middle;\n",
       "    }\n",
       "\n",
       "    .dataframe tbody tr th {\n",
       "        vertical-align: top;\n",
       "    }\n",
       "\n",
       "    .dataframe thead th {\n",
       "        text-align: right;\n",
       "    }\n",
       "</style>\n",
       "<table border=\"1\" class=\"dataframe\">\n",
       "  <thead>\n",
       "    <tr style=\"text-align: right;\">\n",
       "      <th></th>\n",
       "      <th>app</th>\n",
       "      <th>category</th>\n",
       "      <th>rating</th>\n",
       "      <th>reviews</th>\n",
       "      <th>size</th>\n",
       "      <th>installs</th>\n",
       "      <th>type</th>\n",
       "      <th>price</th>\n",
       "      <th>content_rating</th>\n",
       "      <th>genres</th>\n",
       "      <th>last_updated</th>\n",
       "      <th>current_ver</th>\n",
       "      <th>android_ver</th>\n",
       "    </tr>\n",
       "  </thead>\n",
       "  <tbody>\n",
       "    <tr>\n",
       "      <th>222</th>\n",
       "      <td>Quick PDF Scanner + OCR FREE</td>\n",
       "      <td>BUSINESS</td>\n",
       "      <td>4.2</td>\n",
       "      <td>80805</td>\n",
       "      <td>Varies with device</td>\n",
       "      <td>5,000,000+</td>\n",
       "      <td>Free</td>\n",
       "      <td>0</td>\n",
       "      <td>Everyone</td>\n",
       "      <td>Business</td>\n",
       "      <td>February 26, 2018</td>\n",
       "      <td>Varies with device</td>\n",
       "      <td>4.0.3 and up</td>\n",
       "    </tr>\n",
       "    <tr>\n",
       "      <th>229</th>\n",
       "      <td>Quick PDF Scanner + OCR FREE</td>\n",
       "      <td>BUSINESS</td>\n",
       "      <td>4.2</td>\n",
       "      <td>80805</td>\n",
       "      <td>Varies with device</td>\n",
       "      <td>5,000,000+</td>\n",
       "      <td>Free</td>\n",
       "      <td>0</td>\n",
       "      <td>Everyone</td>\n",
       "      <td>Business</td>\n",
       "      <td>February 26, 2018</td>\n",
       "      <td>Varies with device</td>\n",
       "      <td>4.0.3 and up</td>\n",
       "    </tr>\n",
       "    <tr>\n",
       "      <th>285</th>\n",
       "      <td>Quick PDF Scanner + OCR FREE</td>\n",
       "      <td>BUSINESS</td>\n",
       "      <td>4.2</td>\n",
       "      <td>80804</td>\n",
       "      <td>Varies with device</td>\n",
       "      <td>5,000,000+</td>\n",
       "      <td>Free</td>\n",
       "      <td>0</td>\n",
       "      <td>Everyone</td>\n",
       "      <td>Business</td>\n",
       "      <td>February 26, 2018</td>\n",
       "      <td>Varies with device</td>\n",
       "      <td>4.0.3 and up</td>\n",
       "    </tr>\n",
       "  </tbody>\n",
       "</table>\n",
       "</div>"
      ],
      "text/plain": [
       "                              app  category  rating reviews  \\\n",
       "222  Quick PDF Scanner + OCR FREE  BUSINESS     4.2   80805   \n",
       "229  Quick PDF Scanner + OCR FREE  BUSINESS     4.2   80805   \n",
       "285  Quick PDF Scanner + OCR FREE  BUSINESS     4.2   80804   \n",
       "\n",
       "                   size    installs  type price content_rating    genres  \\\n",
       "222  Varies with device  5,000,000+  Free     0       Everyone  Business   \n",
       "229  Varies with device  5,000,000+  Free     0       Everyone  Business   \n",
       "285  Varies with device  5,000,000+  Free     0       Everyone  Business   \n",
       "\n",
       "          last_updated         current_ver   android_ver  \n",
       "222  February 26, 2018  Varies with device  4.0.3 and up  \n",
       "229  February 26, 2018  Varies with device  4.0.3 and up  \n",
       "285  February 26, 2018  Varies with device  4.0.3 and up  "
      ]
     },
     "execution_count": 9,
     "metadata": {},
     "output_type": "execute_result"
    }
   ],
   "source": [
    "# Randomly check one/ some app(s) to see whether there's any difference in those duplicate records\n",
    "\n",
    "android[android.app == 'Quick PDF Scanner + OCR FREE']"
   ]
  },
  {
   "cell_type": "markdown",
   "id": "b15be66f",
   "metadata": {},
   "source": [
    "<p style='background:yellow'>We can see that the only difference is the 4th column, which is the number of reviews. To avoid deleting data randomly, we'll use this column as a criterion to do it. A record with the highest number of reviews likely to be collected most recently, so we'll keep these records and delete others.</p>"
   ]
  },
  {
   "cell_type": "markdown",
   "id": "f21be317",
   "metadata": {},
   "source": [
    "In the next steps, we will:\n",
    "1. Create an empty dictionary to store the result (the list of unique app with highest number of reviews)\n",
    "2. Create a list of unique apps from the original android list\n",
    "3. Loop through the unique apps list, sort the reviews column in descending order, and select the first row (highest reviews)\n",
    "4. Assign the result at the step 3 to the dictionary at step 1\n",
    "5. Convert the dictionary back to dataframe type"
   ]
  },
  {
   "cell_type": "code",
   "execution_count": 10,
   "id": "7d709978",
   "metadata": {},
   "outputs": [],
   "source": [
    "highest_review = {}\n",
    "uniq_apps = android['app'].unique()\n",
    "\n",
    "for app in uniq_apps:\n",
    "    selected_record = android[android['app'] == app].sort_values('reviews', ascending = False).iloc[0]\n",
    "    highest_review[app] = selected_record"
   ]
  },
  {
   "cell_type": "code",
   "execution_count": 11,
   "id": "9cc6b719",
   "metadata": {},
   "outputs": [
    {
     "data": {
      "text/plain": [
       "9659"
      ]
     },
     "execution_count": 11,
     "metadata": {},
     "output_type": "execute_result"
    }
   ],
   "source": [
    "# Convert the highest_review dict to dataframe\n",
    "\n",
    "android=pd.DataFrame.from_dict(highest_review, orient='index')\n",
    "\n",
    "android\n",
    "len(android)"
   ]
  },
  {
   "cell_type": "markdown",
   "id": "77abe624",
   "metadata": {},
   "source": [
    "### 2. Removing non-English apps\n",
    "\n",
    "As all alphabetical characters are encoded using the ASCII standard, each ASCII character is assigned a number between 0 and 127, we'll make use of this to build a function that checks an app name and detect whether it contains non-ASCII characters."
   ]
  },
  {
   "cell_type": "code",
   "execution_count": 12,
   "id": "1ec06094",
   "metadata": {},
   "outputs": [
    {
     "name": "stdout",
     "output_type": "stream",
     "text": [
      "False\n"
     ]
    }
   ],
   "source": [
    "# Create a function to check whether the input contains non-ASCII characters\n",
    "\n",
    "def is_english(name):\n",
    "    for char in name:\n",
    "        if ord(char) > 127:\n",
    "            return False\n",
    "    return True\n",
    "        \n",
    "print(is_english('爱奇艺PPS -《欢乐颂2》电视剧热播'))"
   ]
  },
  {
   "cell_type": "code",
   "execution_count": 13,
   "id": "e63f0b45",
   "metadata": {},
   "outputs": [
    {
     "name": "stdout",
     "output_type": "stream",
     "text": [
      "False\n"
     ]
    }
   ],
   "source": [
    "print(is_english('Docs To Go™ Free Office Suite'))"
   ]
  },
  {
   "cell_type": "markdown",
   "id": "e989c420",
   "metadata": {},
   "source": [
    "<p style='background:yellow'>This function works even when there's one non-ASCII character the inputted string. For those English apps which contain at least one symbol in the name, for example: \"Docs To Go**™** Free Office Suite\", it will also return False. Because of this, if we use this function, we might remove some useful data. \n",
    "To minimize the amount of data loss, we'll update our function to only remove an app if its name has more than three non-ASCII characters.</p>"
   ]
  },
  {
   "cell_type": "code",
   "execution_count": 14,
   "id": "d9c7a79e",
   "metadata": {},
   "outputs": [
    {
     "name": "stdout",
     "output_type": "stream",
     "text": [
      "True\n"
     ]
    }
   ],
   "source": [
    "def is_english(name):\n",
    "    count = 0\n",
    "    for char in name:\n",
    "        if ord(char) > 127:\n",
    "            count += 1\n",
    "    if count > 3:\n",
    "        return False\n",
    "    else:\n",
    "        return True\n",
    "        \n",
    "print(is_english('Docs To Go™ Free Office Suite'))"
   ]
  },
  {
   "cell_type": "markdown",
   "id": "b779665d",
   "metadata": {},
   "source": [
    "#### Apply the function"
   ]
  },
  {
   "cell_type": "code",
   "execution_count": 15,
   "id": "0909bde7",
   "metadata": {},
   "outputs": [
    {
     "data": {
      "text/html": [
       "<div>\n",
       "<style scoped>\n",
       "    .dataframe tbody tr th:only-of-type {\n",
       "        vertical-align: middle;\n",
       "    }\n",
       "\n",
       "    .dataframe tbody tr th {\n",
       "        vertical-align: top;\n",
       "    }\n",
       "\n",
       "    .dataframe thead th {\n",
       "        text-align: right;\n",
       "    }\n",
       "</style>\n",
       "<table border=\"1\" class=\"dataframe\">\n",
       "  <thead>\n",
       "    <tr style=\"text-align: right;\">\n",
       "      <th></th>\n",
       "      <th>app</th>\n",
       "      <th>category</th>\n",
       "      <th>rating</th>\n",
       "      <th>reviews</th>\n",
       "      <th>size</th>\n",
       "      <th>installs</th>\n",
       "      <th>type</th>\n",
       "      <th>price</th>\n",
       "      <th>content_rating</th>\n",
       "      <th>genres</th>\n",
       "      <th>last_updated</th>\n",
       "      <th>current_ver</th>\n",
       "      <th>android_ver</th>\n",
       "      <th>is_english</th>\n",
       "    </tr>\n",
       "  </thead>\n",
       "  <tbody>\n",
       "    <tr>\n",
       "      <th>Photo Editor &amp; Candy Camera &amp; Grid &amp; ScrapBook</th>\n",
       "      <td>Photo Editor &amp; Candy Camera &amp; Grid &amp; ScrapBook</td>\n",
       "      <td>ART_AND_DESIGN</td>\n",
       "      <td>4.1</td>\n",
       "      <td>159</td>\n",
       "      <td>19M</td>\n",
       "      <td>10,000+</td>\n",
       "      <td>Free</td>\n",
       "      <td>0</td>\n",
       "      <td>Everyone</td>\n",
       "      <td>Art &amp; Design</td>\n",
       "      <td>January 7, 2018</td>\n",
       "      <td>1.0.0</td>\n",
       "      <td>4.0.3 and up</td>\n",
       "      <td>True</td>\n",
       "    </tr>\n",
       "    <tr>\n",
       "      <th>Coloring book moana</th>\n",
       "      <td>Coloring book moana</td>\n",
       "      <td>FAMILY</td>\n",
       "      <td>3.9</td>\n",
       "      <td>974</td>\n",
       "      <td>14M</td>\n",
       "      <td>500,000+</td>\n",
       "      <td>Free</td>\n",
       "      <td>0</td>\n",
       "      <td>Everyone</td>\n",
       "      <td>Art &amp; Design;Pretend Play</td>\n",
       "      <td>January 15, 2018</td>\n",
       "      <td>2.0.0</td>\n",
       "      <td>4.0.3 and up</td>\n",
       "      <td>True</td>\n",
       "    </tr>\n",
       "    <tr>\n",
       "      <th>U Launcher Lite – FREE Live Cool Themes, Hide Apps</th>\n",
       "      <td>U Launcher Lite – FREE Live Cool Themes, Hide ...</td>\n",
       "      <td>ART_AND_DESIGN</td>\n",
       "      <td>4.7</td>\n",
       "      <td>87510</td>\n",
       "      <td>8.7M</td>\n",
       "      <td>5,000,000+</td>\n",
       "      <td>Free</td>\n",
       "      <td>0</td>\n",
       "      <td>Everyone</td>\n",
       "      <td>Art &amp; Design</td>\n",
       "      <td>August 1, 2018</td>\n",
       "      <td>1.2.4</td>\n",
       "      <td>4.0.3 and up</td>\n",
       "      <td>True</td>\n",
       "    </tr>\n",
       "  </tbody>\n",
       "</table>\n",
       "</div>"
      ],
      "text/plain": [
       "                                                                                                  app  \\\n",
       "Photo Editor & Candy Camera & Grid & ScrapBook         Photo Editor & Candy Camera & Grid & ScrapBook   \n",
       "Coloring book moana                                                               Coloring book moana   \n",
       "U Launcher Lite – FREE Live Cool Themes, Hide Apps  U Launcher Lite – FREE Live Cool Themes, Hide ...   \n",
       "\n",
       "                                                          category  rating  \\\n",
       "Photo Editor & Candy Camera & Grid & ScrapBook      ART_AND_DESIGN     4.1   \n",
       "Coloring book moana                                         FAMILY     3.9   \n",
       "U Launcher Lite – FREE Live Cool Themes, Hide Apps  ART_AND_DESIGN     4.7   \n",
       "\n",
       "                                                   reviews  size    installs  \\\n",
       "Photo Editor & Candy Camera & Grid & ScrapBook         159   19M     10,000+   \n",
       "Coloring book moana                                    974   14M    500,000+   \n",
       "U Launcher Lite – FREE Live Cool Themes, Hide Apps   87510  8.7M  5,000,000+   \n",
       "\n",
       "                                                    type price content_rating  \\\n",
       "Photo Editor & Candy Camera & Grid & ScrapBook      Free     0       Everyone   \n",
       "Coloring book moana                                 Free     0       Everyone   \n",
       "U Launcher Lite – FREE Live Cool Themes, Hide Apps  Free     0       Everyone   \n",
       "\n",
       "                                                                       genres  \\\n",
       "Photo Editor & Candy Camera & Grid & ScrapBook                   Art & Design   \n",
       "Coloring book moana                                 Art & Design;Pretend Play   \n",
       "U Launcher Lite – FREE Live Cool Themes, Hide Apps               Art & Design   \n",
       "\n",
       "                                                        last_updated  \\\n",
       "Photo Editor & Candy Camera & Grid & ScrapBook       January 7, 2018   \n",
       "Coloring book moana                                 January 15, 2018   \n",
       "U Launcher Lite – FREE Live Cool Themes, Hide Apps    August 1, 2018   \n",
       "\n",
       "                                                   current_ver   android_ver  \\\n",
       "Photo Editor & Candy Camera & Grid & ScrapBook           1.0.0  4.0.3 and up   \n",
       "Coloring book moana                                      2.0.0  4.0.3 and up   \n",
       "U Launcher Lite – FREE Live Cool Themes, Hide Apps       1.2.4  4.0.3 and up   \n",
       "\n",
       "                                                    is_english  \n",
       "Photo Editor & Candy Camera & Grid & ScrapBook            True  \n",
       "Coloring book moana                                       True  \n",
       "U Launcher Lite – FREE Live Cool Themes, Hide Apps        True  "
      ]
     },
     "execution_count": 15,
     "metadata": {},
     "output_type": "execute_result"
    }
   ],
   "source": [
    "# Create a new column to apply the function\n",
    "\n",
    "android['is_english'] = android['app'].apply(is_english)\n",
    "android.head(3)"
   ]
  },
  {
   "cell_type": "code",
   "execution_count": 16,
   "id": "d4c546af",
   "metadata": {},
   "outputs": [
    {
     "name": "stdout",
     "output_type": "stream",
     "text": [
      "45\n"
     ]
    }
   ],
   "source": [
    "print(len(android.is_english[android['is_english']== False]))"
   ]
  },
  {
   "cell_type": "code",
   "execution_count": 17,
   "id": "de41133c",
   "metadata": {},
   "outputs": [
    {
     "name": "stdout",
     "output_type": "stream",
     "text": [
      "0\n",
      "9614\n"
     ]
    }
   ],
   "source": [
    "# Remove records with non-English name\n",
    "\n",
    "android.drop(android[android.is_english==False].index, inplace = True)\n",
    "\n",
    "print(len(android.is_english[android['is_english']== False]))\n",
    "print(len(android))"
   ]
  },
  {
   "cell_type": "code",
   "execution_count": 18,
   "id": "3e50cd60",
   "metadata": {},
   "outputs": [
    {
     "data": {
      "text/html": [
       "<div>\n",
       "<style scoped>\n",
       "    .dataframe tbody tr th:only-of-type {\n",
       "        vertical-align: middle;\n",
       "    }\n",
       "\n",
       "    .dataframe tbody tr th {\n",
       "        vertical-align: top;\n",
       "    }\n",
       "\n",
       "    .dataframe thead th {\n",
       "        text-align: right;\n",
       "    }\n",
       "</style>\n",
       "<table border=\"1\" class=\"dataframe\">\n",
       "  <thead>\n",
       "    <tr style=\"text-align: right;\">\n",
       "      <th></th>\n",
       "      <th>app</th>\n",
       "      <th>category</th>\n",
       "      <th>rating</th>\n",
       "      <th>reviews</th>\n",
       "      <th>size</th>\n",
       "      <th>installs</th>\n",
       "      <th>type</th>\n",
       "      <th>price</th>\n",
       "      <th>content_rating</th>\n",
       "      <th>genres</th>\n",
       "      <th>last_updated</th>\n",
       "      <th>current_ver</th>\n",
       "      <th>android_ver</th>\n",
       "    </tr>\n",
       "  </thead>\n",
       "  <tbody>\n",
       "    <tr>\n",
       "      <th>Photo Editor &amp; Candy Camera &amp; Grid &amp; ScrapBook</th>\n",
       "      <td>Photo Editor &amp; Candy Camera &amp; Grid &amp; ScrapBook</td>\n",
       "      <td>ART_AND_DESIGN</td>\n",
       "      <td>4.1</td>\n",
       "      <td>159</td>\n",
       "      <td>19M</td>\n",
       "      <td>10,000+</td>\n",
       "      <td>Free</td>\n",
       "      <td>0</td>\n",
       "      <td>Everyone</td>\n",
       "      <td>Art &amp; Design</td>\n",
       "      <td>January 7, 2018</td>\n",
       "      <td>1.0.0</td>\n",
       "      <td>4.0.3 and up</td>\n",
       "    </tr>\n",
       "    <tr>\n",
       "      <th>Coloring book moana</th>\n",
       "      <td>Coloring book moana</td>\n",
       "      <td>FAMILY</td>\n",
       "      <td>3.9</td>\n",
       "      <td>974</td>\n",
       "      <td>14M</td>\n",
       "      <td>500,000+</td>\n",
       "      <td>Free</td>\n",
       "      <td>0</td>\n",
       "      <td>Everyone</td>\n",
       "      <td>Art &amp; Design;Pretend Play</td>\n",
       "      <td>January 15, 2018</td>\n",
       "      <td>2.0.0</td>\n",
       "      <td>4.0.3 and up</td>\n",
       "    </tr>\n",
       "    <tr>\n",
       "      <th>U Launcher Lite – FREE Live Cool Themes, Hide Apps</th>\n",
       "      <td>U Launcher Lite – FREE Live Cool Themes, Hide ...</td>\n",
       "      <td>ART_AND_DESIGN</td>\n",
       "      <td>4.7</td>\n",
       "      <td>87510</td>\n",
       "      <td>8.7M</td>\n",
       "      <td>5,000,000+</td>\n",
       "      <td>Free</td>\n",
       "      <td>0</td>\n",
       "      <td>Everyone</td>\n",
       "      <td>Art &amp; Design</td>\n",
       "      <td>August 1, 2018</td>\n",
       "      <td>1.2.4</td>\n",
       "      <td>4.0.3 and up</td>\n",
       "    </tr>\n",
       "  </tbody>\n",
       "</table>\n",
       "</div>"
      ],
      "text/plain": [
       "                                                                                                  app  \\\n",
       "Photo Editor & Candy Camera & Grid & ScrapBook         Photo Editor & Candy Camera & Grid & ScrapBook   \n",
       "Coloring book moana                                                               Coloring book moana   \n",
       "U Launcher Lite – FREE Live Cool Themes, Hide Apps  U Launcher Lite – FREE Live Cool Themes, Hide ...   \n",
       "\n",
       "                                                          category  rating  \\\n",
       "Photo Editor & Candy Camera & Grid & ScrapBook      ART_AND_DESIGN     4.1   \n",
       "Coloring book moana                                         FAMILY     3.9   \n",
       "U Launcher Lite – FREE Live Cool Themes, Hide Apps  ART_AND_DESIGN     4.7   \n",
       "\n",
       "                                                   reviews  size    installs  \\\n",
       "Photo Editor & Candy Camera & Grid & ScrapBook         159   19M     10,000+   \n",
       "Coloring book moana                                    974   14M    500,000+   \n",
       "U Launcher Lite – FREE Live Cool Themes, Hide Apps   87510  8.7M  5,000,000+   \n",
       "\n",
       "                                                    type price content_rating  \\\n",
       "Photo Editor & Candy Camera & Grid & ScrapBook      Free     0       Everyone   \n",
       "Coloring book moana                                 Free     0       Everyone   \n",
       "U Launcher Lite – FREE Live Cool Themes, Hide Apps  Free     0       Everyone   \n",
       "\n",
       "                                                                       genres  \\\n",
       "Photo Editor & Candy Camera & Grid & ScrapBook                   Art & Design   \n",
       "Coloring book moana                                 Art & Design;Pretend Play   \n",
       "U Launcher Lite – FREE Live Cool Themes, Hide Apps               Art & Design   \n",
       "\n",
       "                                                        last_updated  \\\n",
       "Photo Editor & Candy Camera & Grid & ScrapBook       January 7, 2018   \n",
       "Coloring book moana                                 January 15, 2018   \n",
       "U Launcher Lite – FREE Live Cool Themes, Hide Apps    August 1, 2018   \n",
       "\n",
       "                                                   current_ver   android_ver  \n",
       "Photo Editor & Candy Camera & Grid & ScrapBook           1.0.0  4.0.3 and up  \n",
       "Coloring book moana                                      2.0.0  4.0.3 and up  \n",
       "U Launcher Lite – FREE Live Cool Themes, Hide Apps       1.2.4  4.0.3 and up  "
      ]
     },
     "execution_count": 18,
     "metadata": {},
     "output_type": "execute_result"
    }
   ],
   "source": [
    "# Delete column \"is_english\"\n",
    "\n",
    "android.drop(['is_english'], axis = 1, inplace = True)\n",
    "\n",
    "android.head(3)"
   ]
  },
  {
   "cell_type": "markdown",
   "id": "f7c3e8d3",
   "metadata": {},
   "source": [
    "### 3. Removing non-free apps"
   ]
  },
  {
   "cell_type": "code",
   "execution_count": 19,
   "id": "2a2febc6",
   "metadata": {},
   "outputs": [
    {
     "data": {
      "text/plain": [
       "count    9614.000000\n",
       "mean        1.061126\n",
       "std        16.393744\n",
       "min         0.000000\n",
       "25%         0.000000\n",
       "50%         0.000000\n",
       "75%         0.000000\n",
       "max       400.000000\n",
       "Name: price, dtype: float64"
      ]
     },
     "execution_count": 19,
     "metadata": {},
     "output_type": "execute_result"
    }
   ],
   "source": [
    "# Convert datatype of the \"price\" columns to float\n",
    "\n",
    "android.price = android.price.str.replace('$','')\n",
    "android.price = android.price.astype(float)\n",
    "\n",
    "android.price.describe()"
   ]
  },
  {
   "cell_type": "code",
   "execution_count": 20,
   "id": "1e28df2c",
   "metadata": {
    "scrolled": true
   },
   "outputs": [
    {
     "data": {
      "text/plain": [
       "8862"
      ]
     },
     "execution_count": 20,
     "metadata": {},
     "output_type": "execute_result"
    }
   ],
   "source": [
    "# Remove non-free apps\n",
    "android = android[android['price']==0]\n",
    "\n",
    "len(android)"
   ]
  },
  {
   "cell_type": "markdown",
   "id": "2a718007",
   "metadata": {},
   "source": [
    "**From the original 10841 records, now we are left with 8862 apps to analyse**"
   ]
  },
  {
   "cell_type": "markdown",
   "id": "c8f64eac",
   "metadata": {},
   "source": [
    "## III. Analyse data"
   ]
  },
  {
   "cell_type": "markdown",
   "id": "a96b2a86",
   "metadata": {},
   "source": [
    "Our dataset has total of 13 columns but not all of them are useful for this project. Let's print out the columns again and identify key columns."
   ]
  },
  {
   "cell_type": "code",
   "execution_count": 21,
   "id": "f85b0741",
   "metadata": {},
   "outputs": [
    {
     "data": {
      "text/plain": [
       "Index(['app', 'category', 'rating', 'reviews', 'size', 'installs', 'type',\n",
       "       'price', 'content_rating', 'genres', 'last_updated', 'current_ver',\n",
       "       'android_ver'],\n",
       "      dtype='object')"
      ]
     },
     "execution_count": 21,
     "metadata": {},
     "output_type": "execute_result"
    }
   ],
   "source": [
    "android.columns"
   ]
  },
  {
   "cell_type": "markdown",
   "id": "28cc0837",
   "metadata": {},
   "source": [
    "<p style='background:yellow'>For this analysis, below are the key columns that we will select for further analyse:\n",
    "<br>- category\n",
    "<br>- rating\n",
    "<br>- reviews\n",
    "<br>- installs\n",
    "</p>"
   ]
  },
  {
   "cell_type": "markdown",
   "id": "52b6a93e",
   "metadata": {},
   "source": [
    "### 1. Most common categories on Google Play Store"
   ]
  },
  {
   "cell_type": "markdown",
   "id": "ef57cc6d",
   "metadata": {},
   "source": [
    "Let's take a look at the top 10 common categories to see which kind of apps are dominating Google Play Store."
   ]
  },
  {
   "cell_type": "code",
   "execution_count": 22,
   "id": "d14406f0",
   "metadata": {},
   "outputs": [
    {
     "data": {
      "text/plain": [
       "FAMILY             18.93\n",
       "GAME                9.69\n",
       "TOOLS               8.45\n",
       "BUSINESS            4.59\n",
       "LIFESTYLE           3.90\n",
       "PRODUCTIVITY        3.89\n",
       "FINANCE             3.70\n",
       "MEDICAL             3.52\n",
       "SPORTS              3.40\n",
       "PERSONALIZATION     3.32\n",
       "Name: category, dtype: float64"
      ]
     },
     "execution_count": 22,
     "metadata": {},
     "output_type": "execute_result"
    }
   ],
   "source": [
    "# Calculate the percentage of top 10 categories on GG Play Store\n",
    "\n",
    "most_common = round(android['category'].value_counts()/len(android)*100,2)\n",
    "top10_common = most_common.head(10)\n",
    "top10_common"
   ]
  },
  {
   "cell_type": "code",
   "execution_count": 23,
   "id": "2c559ff3",
   "metadata": {},
   "outputs": [
    {
     "data": {
      "image/png": "[encoded data removed]",
      "text/plain": [
       "<Figure size 432x288 with 1 Axes>"
      ]
     },
     "metadata": {
      "needs_background": "light"
     },
     "output_type": "display_data"
    }
   ],
   "source": [
    "top10_common.sort_values(ascending = True, inplace=True)\n",
    "top10_common.plot.barh()\n",
    "plt.title('Top 10 common categories on Google Play Store')\n",
    "plt.xticks([0, 5, 10,15,20],['0%', '5%', '10%','15%','20%'])\n",
    "plt.show()"
   ]
  },
  {
   "cell_type": "markdown",
   "id": "91fd70bc",
   "metadata": {},
   "source": [
    "<p style='background:yellow'>We can see that among the top ten list, the \"Family\" category accounts for the highest percentage (close to 19%), followed by \"Game\" (9.69) and \"Tools\" (8.45%). The rest of the list is less than 5%.  But we need to take into account that an app that belongs to the most common categories doesn't also imply that they have the biggest number of users because the supply could be higher than the demand.</p>"
   ]
  },
  {
   "cell_type": "markdown",
   "id": "b47f0d71",
   "metadata": {},
   "source": [
    "### 2. App's categories with the highest average rating"
   ]
  },
  {
   "cell_type": "code",
   "execution_count": 24,
   "id": "f90477af",
   "metadata": {},
   "outputs": [
    {
     "data": {
      "text/html": [
       "<div>\n",
       "<style scoped>\n",
       "    .dataframe tbody tr th:only-of-type {\n",
       "        vertical-align: middle;\n",
       "    }\n",
       "\n",
       "    .dataframe tbody tr th {\n",
       "        vertical-align: top;\n",
       "    }\n",
       "\n",
       "    .dataframe thead th {\n",
       "        text-align: right;\n",
       "    }\n",
       "</style>\n",
       "<table border=\"1\" class=\"dataframe\">\n",
       "  <thead>\n",
       "    <tr style=\"text-align: right;\">\n",
       "      <th></th>\n",
       "      <th>rating</th>\n",
       "      <th>price</th>\n",
       "    </tr>\n",
       "    <tr>\n",
       "      <th>category</th>\n",
       "      <th></th>\n",
       "      <th></th>\n",
       "    </tr>\n",
       "  </thead>\n",
       "  <tbody>\n",
       "    <tr>\n",
       "      <th>EVENTS</th>\n",
       "      <td>4.435556</td>\n",
       "      <td>0.0</td>\n",
       "    </tr>\n",
       "    <tr>\n",
       "      <th>BOOKS_AND_REFERENCE</th>\n",
       "      <td>4.347799</td>\n",
       "      <td>0.0</td>\n",
       "    </tr>\n",
       "    <tr>\n",
       "      <th>EDUCATION</th>\n",
       "      <td>4.344660</td>\n",
       "      <td>0.0</td>\n",
       "    </tr>\n",
       "    <tr>\n",
       "      <th>PARENTING</th>\n",
       "      <td>4.339583</td>\n",
       "      <td>0.0</td>\n",
       "    </tr>\n",
       "    <tr>\n",
       "      <th>ART_AND_DESIGN</th>\n",
       "      <td>4.338182</td>\n",
       "      <td>0.0</td>\n",
       "    </tr>\n",
       "    <tr>\n",
       "      <th>PERSONALIZATION</th>\n",
       "      <td>4.300000</td>\n",
       "      <td>0.0</td>\n",
       "    </tr>\n",
       "    <tr>\n",
       "      <th>BEAUTY</th>\n",
       "      <td>4.278571</td>\n",
       "      <td>0.0</td>\n",
       "    </tr>\n",
       "    <tr>\n",
       "      <th>SOCIAL</th>\n",
       "      <td>4.252736</td>\n",
       "      <td>0.0</td>\n",
       "    </tr>\n",
       "    <tr>\n",
       "      <th>HEALTH_AND_FITNESS</th>\n",
       "      <td>4.236052</td>\n",
       "      <td>0.0</td>\n",
       "    </tr>\n",
       "    <tr>\n",
       "      <th>GAME</th>\n",
       "      <td>4.230807</td>\n",
       "      <td>0.0</td>\n",
       "    </tr>\n",
       "  </tbody>\n",
       "</table>\n",
       "</div>"
      ],
      "text/plain": [
       "                       rating  price\n",
       "category                            \n",
       "EVENTS               4.435556    0.0\n",
       "BOOKS_AND_REFERENCE  4.347799    0.0\n",
       "EDUCATION            4.344660    0.0\n",
       "PARENTING            4.339583    0.0\n",
       "ART_AND_DESIGN       4.338182    0.0\n",
       "PERSONALIZATION      4.300000    0.0\n",
       "BEAUTY               4.278571    0.0\n",
       "SOCIAL               4.252736    0.0\n",
       "HEALTH_AND_FITNESS   4.236052    0.0\n",
       "GAME                 4.230807    0.0"
      ]
     },
     "execution_count": 24,
     "metadata": {},
     "output_type": "execute_result"
    }
   ],
   "source": [
    "high_rating = android.groupby('category').mean('rating').sort_values('rating', ascending = False)\n",
    "high_rating.head(10)"
   ]
  },
  {
   "cell_type": "markdown",
   "id": "1547b9af",
   "metadata": {},
   "source": [
    "<p style='background:yellow'>In general, we can see that there's not much difference among the rating of the top ten categories (from 4.23 to 4.43), so we can ignore this field for now and focus on analyzing the other remaining factors.</p>"
   ]
  },
  {
   "cell_type": "markdown",
   "id": "70d6b059",
   "metadata": {},
   "source": [
    "### 3. App's categories with the highest average number of reviews"
   ]
  },
  {
   "cell_type": "code",
   "execution_count": 25,
   "id": "e111070b",
   "metadata": {},
   "outputs": [
    {
     "data": {
      "text/plain": [
       "category\n",
       "COMMUNICATION      995608.463415\n",
       "SOCIAL             965830.987288\n",
       "GAME               683839.718277\n",
       "VIDEO_PLAYERS      425350.081761\n",
       "PHOTOGRAPHY        403207.402299\n",
       "TOOLS              306086.652870\n",
       "ENTERTAINMENT      301752.247059\n",
       "SHOPPING           223887.346734\n",
       "PERSONALIZATION    181122.316327\n",
       "WEATHER            171250.774648\n",
       "Name: reviews, dtype: float64"
      ]
     },
     "execution_count": 25,
     "metadata": {},
     "output_type": "execute_result"
    }
   ],
   "source": [
    "# Convert datatype of the \"revies\" columns to float\n",
    "android.reviews = android.reviews.astype(float)\n",
    "\n",
    "# Top 10 most reviewed categories\n",
    "most_reviewed = android.groupby('category').mean('reviews').sort_values('reviews', ascending = False)\n",
    "top10_reviewed = most_reviewed.reviews.head(10)\n",
    "top10_reviewed"
   ]
  },
  {
   "cell_type": "code",
   "execution_count": 26,
   "id": "2bbc56be",
   "metadata": {},
   "outputs": [
    {
     "data": {
      "text/plain": [
       "<AxesSubplot:ylabel='category'>"
      ]
     },
     "execution_count": 26,
     "metadata": {},
     "output_type": "execute_result"
    },
    {
     "data": {
      "image/png": "[encoded data removed]",
      "text/plain": [
       "<Figure size 432x288 with 1 Axes>"
      ]
     },
     "metadata": {
      "needs_background": "light"
     },
     "output_type": "display_data"
    }
   ],
   "source": [
    "top10_reviewed.sort_values(ascending = True, inplace=True)\n",
    "plt.ticklabel_format(style='plain')\n",
    "\n",
    "top10_reviewed.plot.barh()"
   ]
  },
  {
   "cell_type": "markdown",
   "id": "0b4bb055",
   "metadata": {},
   "source": [
    "### 4. App's categories with the highest average number of installs"
   ]
  },
  {
   "cell_type": "code",
   "execution_count": 27,
   "id": "a76e2c5c",
   "metadata": {},
   "outputs": [
    {
     "data": {
      "text/plain": [
       "Photo Editor & Candy Camera & Grid & ScrapBook           10000.0\n",
       "Coloring book moana                                     500000.0\n",
       "U Launcher Lite – FREE Live Cool Themes, Hide Apps     5000000.0\n",
       "Sketch - Draw & Paint                                 50000000.0\n",
       "Pixel Draw - Number Art Coloring Book                   100000.0\n",
       "                                                         ...    \n",
       "Sya9a Maroc - FR                                          5000.0\n",
       "Fr. Mike Schmitz Audio Teachings                           100.0\n",
       "Parkinson Exercices FR                                    1000.0\n",
       "The SCP Foundation DB fr nn5n                             1000.0\n",
       "iHoroscope - 2018 Daily Horoscope & Astrology         10000000.0\n",
       "Name: installs, Length: 8862, dtype: float64"
      ]
     },
     "execution_count": 27,
     "metadata": {},
     "output_type": "execute_result"
    }
   ],
   "source": [
    "# Convert datatype of the \"installs\" columns to float\n",
    "\n",
    "android.installs = android.installs.str.replace('+','')\n",
    "android.installs = android.installs.str.replace(',','')\n",
    "android.installs = android.installs.astype(float)\n",
    "\n",
    "android.installs"
   ]
  },
  {
   "cell_type": "code",
   "execution_count": 28,
   "id": "b70cf8d8",
   "metadata": {
    "scrolled": true
   },
   "outputs": [
    {
     "data": {
      "text/plain": [
       "category\n",
       "COMMUNICATION         3.845612e+07\n",
       "VIDEO_PLAYERS         2.472787e+07\n",
       "SOCIAL                2.325365e+07\n",
       "PHOTOGRAPHY           1.780563e+07\n",
       "PRODUCTIVITY          1.678733e+07\n",
       "GAME                  1.556097e+07\n",
       "TRAVEL_AND_LOCAL      1.398408e+07\n",
       "ENTERTAINMENT         1.164071e+07\n",
       "TOOLS                 1.068230e+07\n",
       "NEWS_AND_MAGAZINES    9.549178e+06\n",
       "Name: installs, dtype: float64"
      ]
     },
     "execution_count": 28,
     "metadata": {},
     "output_type": "execute_result"
    }
   ],
   "source": [
    "# Top 10 most installed categories\n",
    "\n",
    "most_installed = android.groupby('category').mean('installs').sort_values('installs', ascending = False)\n",
    "top10_installed = most_installed.installs.head(10)\n",
    "\n",
    "top10_installed"
   ]
  },
  {
   "cell_type": "code",
   "execution_count": 29,
   "id": "1afb181c",
   "metadata": {},
   "outputs": [
    {
     "data": {
      "image/png": "[encoded data removed]",
      "text/plain": [
       "<Figure size 432x288 with 1 Axes>"
      ]
     },
     "metadata": {
      "needs_background": "light"
     },
     "output_type": "display_data"
    }
   ],
   "source": [
    "top10_installed.sort_values(ascending = True, inplace=True)\n",
    "plt.ticklabel_format(style='plain')\n",
    "\n",
    "top10_installed.plot.barh()\n",
    "plt.xticks([0, 10000000,20000000,30000000,40000000],['0','10M','20M','30M','40M'])\n",
    "plt.show()"
   ]
  },
  {
   "cell_type": "markdown",
   "id": "bc77fd95",
   "metadata": {},
   "source": [
    "### 5. Identify the best category to develop a new app"
   ]
  },
  {
   "cell_type": "markdown",
   "id": "96ad01c1",
   "metadata": {},
   "source": [
    "#### Let's put together the 3 graphs of most common, most reviewed, and most installed categories to find the room for our company's new app"
   ]
  },
  {
   "cell_type": "code",
   "execution_count": 30,
   "id": "cbdb0aa8",
   "metadata": {},
   "outputs": [
    {
     "data": {
      "image/png": "[encoded data removed]",
      "text/plain": [
       "<Figure size 576x288 with 1 Axes>"
      ]
     },
     "metadata": {
      "needs_background": "light"
     },
     "output_type": "display_data"
    },
    {
     "data": {
      "image/png": "[encoded data removed]",
      "text/plain": [
       "<Figure size 576x576 with 1 Axes>"
      ]
     },
     "metadata": {
      "needs_background": "light"
     },
     "output_type": "display_data"
    },
    {
     "data": {
      "image/png": "[encoded data removed]",
      "text/plain": [
       "<Figure size 576x936 with 1 Axes>"
      ]
     },
     "metadata": {
      "needs_background": "light"
     },
     "output_type": "display_data"
    }
   ],
   "source": [
    "plt.figure(figsize=(8, 4))\n",
    "plt.subplot(1,1,1)\n",
    "top10_common.plot.barh(color='#008AC5')\n",
    "plt.xticks([0, 5, 10,15,20],['0%', '5%', '10%','15%','20%'])\n",
    "plt.title('Most common categories', fontsize=15, fontweight=\"bold\",color='#434656', pad=10)\n",
    "plt.xlabel('Number of apps',fontsize=14,color='#434656')\n",
    "plt.ylabel('Category',fontsize=14,color='#434656')\n",
    "plt.show()\n",
    "\n",
    "plt.figure(figsize=(8, 8))\n",
    "plt.subplot(2,1,1)\n",
    "plt.ticklabel_format(style='plain')\n",
    "top10_reviewed.plot.barh(color='#008AC5')\n",
    "plt.xticks([0, 250000,500000,750000,1000000],['0', '250000','500000','750000','1000000'])\n",
    "plt.title('Most reviewed categories', fontsize=15,fontweight=\"bold\",color='#434656', pad=10)\n",
    "plt.xlabel('Number of reviews',fontsize=14,color='#434656')\n",
    "plt.ylabel('Category',fontsize=14,color='#434656')\n",
    "plt.show()\n",
    "\n",
    "plt.figure(figsize=(8, 13))\n",
    "plt.subplot(3,1,1)\n",
    "top10_installed.plot.barh(color='#008AC5')\n",
    "plt.xticks([0, 10000000,20000000,30000000,40000000],['0','10M','20M','30M','40M'])\n",
    "plt.title('Most installed categories', fontsize=15,fontweight=\"bold\",color='#434656', pad=10)\n",
    "plt.xlabel('Number of installs',fontsize=14,color='#434656')\n",
    "plt.ylabel('Category',fontsize=14,color='#434656')\n",
    "plt.show()"
   ]
  },
  {
   "cell_type": "markdown",
   "id": "0a802535",
   "metadata": {},
   "source": [
    "<p style='background:yellow'>The first impression is the that five categories that appear in both \"Most reviewed\" and \"Most installed\" graphs and also at the top 5 of both graphs are Communication, Social, Game, Video Players, Photography. Let's take a more detailed look at each category to see what kinds of apps belong to it and how many reviews/ installed they have. </p>"
   ]
  },
  {
   "cell_type": "markdown",
   "id": "534969d5",
   "metadata": {},
   "source": [
    "**1. COMMUNICATION category**"
   ]
  },
  {
   "cell_type": "code",
   "execution_count": 31,
   "id": "403d0945",
   "metadata": {},
   "outputs": [
    {
     "data": {
      "text/html": [
       "<div>\n",
       "<style scoped>\n",
       "    .dataframe tbody tr th:only-of-type {\n",
       "        vertical-align: middle;\n",
       "    }\n",
       "\n",
       "    .dataframe tbody tr th {\n",
       "        vertical-align: top;\n",
       "    }\n",
       "\n",
       "    .dataframe thead th {\n",
       "        text-align: right;\n",
       "    }\n",
       "</style>\n",
       "<table border=\"1\" class=\"dataframe\">\n",
       "  <thead>\n",
       "    <tr style=\"text-align: right;\">\n",
       "      <th></th>\n",
       "      <th>app</th>\n",
       "      <th>category</th>\n",
       "      <th>reviews</th>\n",
       "      <th>installs</th>\n",
       "    </tr>\n",
       "  </thead>\n",
       "  <tbody>\n",
       "    <tr>\n",
       "      <th>WhatsApp Messenger</th>\n",
       "      <td>WhatsApp Messenger</td>\n",
       "      <td>COMMUNICATION</td>\n",
       "      <td>69119316.0</td>\n",
       "      <td>1.000000e+09</td>\n",
       "    </tr>\n",
       "    <tr>\n",
       "      <th>Messenger – Text and Video Chat for Free</th>\n",
       "      <td>Messenger – Text and Video Chat for Free</td>\n",
       "      <td>COMMUNICATION</td>\n",
       "      <td>56646578.0</td>\n",
       "      <td>1.000000e+09</td>\n",
       "    </tr>\n",
       "    <tr>\n",
       "      <th>UC Browser - Fast Download Private &amp; Secure</th>\n",
       "      <td>UC Browser - Fast Download Private &amp; Secure</td>\n",
       "      <td>COMMUNICATION</td>\n",
       "      <td>17714850.0</td>\n",
       "      <td>5.000000e+08</td>\n",
       "    </tr>\n",
       "    <tr>\n",
       "      <th>BBM - Free Calls &amp; Messages</th>\n",
       "      <td>BBM - Free Calls &amp; Messages</td>\n",
       "      <td>COMMUNICATION</td>\n",
       "      <td>12843436.0</td>\n",
       "      <td>1.000000e+08</td>\n",
       "    </tr>\n",
       "    <tr>\n",
       "      <th>Viber Messenger</th>\n",
       "      <td>Viber Messenger</td>\n",
       "      <td>COMMUNICATION</td>\n",
       "      <td>11335481.0</td>\n",
       "      <td>5.000000e+08</td>\n",
       "    </tr>\n",
       "    <tr>\n",
       "      <th>...</th>\n",
       "      <td>...</td>\n",
       "      <td>...</td>\n",
       "      <td>...</td>\n",
       "      <td>...</td>\n",
       "    </tr>\n",
       "    <tr>\n",
       "      <th>Carpooling FH Hagenberg</th>\n",
       "      <td>Carpooling FH Hagenberg</td>\n",
       "      <td>COMMUNICATION</td>\n",
       "      <td>0.0</td>\n",
       "      <td>1.000000e+02</td>\n",
       "    </tr>\n",
       "    <tr>\n",
       "      <th>Oklahoma Ag Co-op Council</th>\n",
       "      <td>Oklahoma Ag Co-op Council</td>\n",
       "      <td>COMMUNICATION</td>\n",
       "      <td>0.0</td>\n",
       "      <td>1.000000e+01</td>\n",
       "    </tr>\n",
       "    <tr>\n",
       "      <th>Test Server SMS FA</th>\n",
       "      <td>Test Server SMS FA</td>\n",
       "      <td>COMMUNICATION</td>\n",
       "      <td>0.0</td>\n",
       "      <td>5.000000e+00</td>\n",
       "    </tr>\n",
       "    <tr>\n",
       "      <th>Ek IRA</th>\n",
       "      <td>Ek IRA</td>\n",
       "      <td>COMMUNICATION</td>\n",
       "      <td>0.0</td>\n",
       "      <td>1.000000e+01</td>\n",
       "    </tr>\n",
       "    <tr>\n",
       "      <th>BQ Partners</th>\n",
       "      <td>BQ Partners</td>\n",
       "      <td>COMMUNICATION</td>\n",
       "      <td>0.0</td>\n",
       "      <td>1.000000e+03</td>\n",
       "    </tr>\n",
       "  </tbody>\n",
       "</table>\n",
       "<p>287 rows × 4 columns</p>\n",
       "</div>"
      ],
      "text/plain": [
       "                                                                                     app  \\\n",
       "WhatsApp Messenger                                                    WhatsApp Messenger   \n",
       "Messenger – Text and Video Chat for Free        Messenger – Text and Video Chat for Free   \n",
       "UC Browser - Fast Download Private & Secure  UC Browser - Fast Download Private & Secure   \n",
       "BBM - Free Calls & Messages                                  BBM - Free Calls & Messages   \n",
       "Viber Messenger                                                          Viber Messenger   \n",
       "...                                                                                  ...   \n",
       "Carpooling FH Hagenberg                                          Carpooling FH Hagenberg   \n",
       "Oklahoma Ag Co-op Council                                      Oklahoma Ag Co-op Council   \n",
       "Test Server SMS FA                                                    Test Server SMS FA   \n",
       "Ek IRA                                                                            Ek IRA   \n",
       "BQ Partners                                                                  BQ Partners   \n",
       "\n",
       "                                                  category     reviews  \\\n",
       "WhatsApp Messenger                           COMMUNICATION  69119316.0   \n",
       "Messenger – Text and Video Chat for Free     COMMUNICATION  56646578.0   \n",
       "UC Browser - Fast Download Private & Secure  COMMUNICATION  17714850.0   \n",
       "BBM - Free Calls & Messages                  COMMUNICATION  12843436.0   \n",
       "Viber Messenger                              COMMUNICATION  11335481.0   \n",
       "...                                                    ...         ...   \n",
       "Carpooling FH Hagenberg                      COMMUNICATION         0.0   \n",
       "Oklahoma Ag Co-op Council                    COMMUNICATION         0.0   \n",
       "Test Server SMS FA                           COMMUNICATION         0.0   \n",
       "Ek IRA                                       COMMUNICATION         0.0   \n",
       "BQ Partners                                  COMMUNICATION         0.0   \n",
       "\n",
       "                                                 installs  \n",
       "WhatsApp Messenger                           1.000000e+09  \n",
       "Messenger – Text and Video Chat for Free     1.000000e+09  \n",
       "UC Browser - Fast Download Private & Secure  5.000000e+08  \n",
       "BBM - Free Calls & Messages                  1.000000e+08  \n",
       "Viber Messenger                              5.000000e+08  \n",
       "...                                                   ...  \n",
       "Carpooling FH Hagenberg                      1.000000e+02  \n",
       "Oklahoma Ag Co-op Council                    1.000000e+01  \n",
       "Test Server SMS FA                           5.000000e+00  \n",
       "Ek IRA                                       1.000000e+01  \n",
       "BQ Partners                                  1.000000e+03  \n",
       "\n",
       "[287 rows x 4 columns]"
      ]
     },
     "execution_count": 31,
     "metadata": {},
     "output_type": "execute_result"
    }
   ],
   "source": [
    "android2 = android[['app','category','reviews','installs']]\n",
    "top_communication = android2[android2['category'] == 'COMMUNICATION'].sort_values('reviews', ascending = False)\n",
    "top_communication"
   ]
  },
  {
   "cell_type": "markdown",
   "id": "119bdb27",
   "metadata": {},
   "source": [
    "#### Let's see some rows in the middle of the list."
   ]
  },
  {
   "cell_type": "code",
   "execution_count": 32,
   "id": "18b67334",
   "metadata": {},
   "outputs": [
    {
     "data": {
      "text/html": [
       "<div>\n",
       "<style scoped>\n",
       "    .dataframe tbody tr th:only-of-type {\n",
       "        vertical-align: middle;\n",
       "    }\n",
       "\n",
       "    .dataframe tbody tr th {\n",
       "        vertical-align: top;\n",
       "    }\n",
       "\n",
       "    .dataframe thead th {\n",
       "        text-align: right;\n",
       "    }\n",
       "</style>\n",
       "<table border=\"1\" class=\"dataframe\">\n",
       "  <thead>\n",
       "    <tr style=\"text-align: right;\">\n",
       "      <th></th>\n",
       "      <th>app</th>\n",
       "      <th>category</th>\n",
       "      <th>reviews</th>\n",
       "      <th>installs</th>\n",
       "    </tr>\n",
       "  </thead>\n",
       "  <tbody>\n",
       "    <tr>\n",
       "      <th>Adblock Plus for Samsung Internet - Browse safe.</th>\n",
       "      <td>Adblock Plus for Samsung Internet - Browse safe.</td>\n",
       "      <td>COMMUNICATION</td>\n",
       "      <td>8769.0</td>\n",
       "      <td>1000000.0</td>\n",
       "    </tr>\n",
       "    <tr>\n",
       "      <th>AW - free video calls and chat</th>\n",
       "      <td>AW - free video calls and chat</td>\n",
       "      <td>COMMUNICATION</td>\n",
       "      <td>7317.0</td>\n",
       "      <td>1000000.0</td>\n",
       "    </tr>\n",
       "    <tr>\n",
       "      <th>U - Webinars, Meetings &amp; Messenger</th>\n",
       "      <td>U - Webinars, Meetings &amp; Messenger</td>\n",
       "      <td>COMMUNICATION</td>\n",
       "      <td>6601.0</td>\n",
       "      <td>500000.0</td>\n",
       "    </tr>\n",
       "    <tr>\n",
       "      <th>AT&amp;T Call Protect</th>\n",
       "      <td>AT&amp;T Call Protect</td>\n",
       "      <td>COMMUNICATION</td>\n",
       "      <td>6454.0</td>\n",
       "      <td>5000000.0</td>\n",
       "    </tr>\n",
       "    <tr>\n",
       "      <th>Talkie - Wi-Fi Calling, Chats, File Sharing</th>\n",
       "      <td>Talkie - Wi-Fi Calling, Chats, File Sharing</td>\n",
       "      <td>COMMUNICATION</td>\n",
       "      <td>4838.0</td>\n",
       "      <td>500000.0</td>\n",
       "    </tr>\n",
       "    <tr>\n",
       "      <th>Goodbox - Mega App</th>\n",
       "      <td>Goodbox - Mega App</td>\n",
       "      <td>COMMUNICATION</td>\n",
       "      <td>3429.0</td>\n",
       "      <td>100000.0</td>\n",
       "    </tr>\n",
       "    <tr>\n",
       "      <th>AT&amp;T Messages for Tablet</th>\n",
       "      <td>AT&amp;T Messages for Tablet</td>\n",
       "      <td>COMMUNICATION</td>\n",
       "      <td>3044.0</td>\n",
       "      <td>1000000.0</td>\n",
       "    </tr>\n",
       "    <tr>\n",
       "      <th>Antillean Gold Telegram (original version)</th>\n",
       "      <td>Antillean Gold Telegram (original version)</td>\n",
       "      <td>COMMUNICATION</td>\n",
       "      <td>2939.0</td>\n",
       "      <td>100000.0</td>\n",
       "    </tr>\n",
       "    <tr>\n",
       "      <th>TownWiFi | Wi-Fi Everywhere</th>\n",
       "      <td>TownWiFi | Wi-Fi Everywhere</td>\n",
       "      <td>COMMUNICATION</td>\n",
       "      <td>2372.0</td>\n",
       "      <td>500000.0</td>\n",
       "    </tr>\n",
       "    <tr>\n",
       "      <th>PlacarTv Futebol Ao Vivo</th>\n",
       "      <td>PlacarTv Futebol Ao Vivo</td>\n",
       "      <td>COMMUNICATION</td>\n",
       "      <td>2063.0</td>\n",
       "      <td>100000.0</td>\n",
       "    </tr>\n",
       "  </tbody>\n",
       "</table>\n",
       "</div>"
      ],
      "text/plain": [
       "                                                                                               app  \\\n",
       "Adblock Plus for Samsung Internet - Browse safe.  Adblock Plus for Samsung Internet - Browse safe.   \n",
       "AW - free video calls and chat                                      AW - free video calls and chat   \n",
       "U - Webinars, Meetings & Messenger                              U - Webinars, Meetings & Messenger   \n",
       "AT&T Call Protect                                                                AT&T Call Protect   \n",
       "Talkie - Wi-Fi Calling, Chats, File Sharing            Talkie - Wi-Fi Calling, Chats, File Sharing   \n",
       "Goodbox - Mega App                                                              Goodbox - Mega App   \n",
       "AT&T Messages for Tablet                                                  AT&T Messages for Tablet   \n",
       "Antillean Gold Telegram (original version)              Antillean Gold Telegram (original version)   \n",
       "TownWiFi | Wi-Fi Everywhere                                            TownWiFi | Wi-Fi Everywhere   \n",
       "PlacarTv Futebol Ao Vivo                                                  PlacarTv Futebol Ao Vivo   \n",
       "\n",
       "                                                       category  reviews  \\\n",
       "Adblock Plus for Samsung Internet - Browse safe.  COMMUNICATION   8769.0   \n",
       "AW - free video calls and chat                    COMMUNICATION   7317.0   \n",
       "U - Webinars, Meetings & Messenger                COMMUNICATION   6601.0   \n",
       "AT&T Call Protect                                 COMMUNICATION   6454.0   \n",
       "Talkie - Wi-Fi Calling, Chats, File Sharing       COMMUNICATION   4838.0   \n",
       "Goodbox - Mega App                                COMMUNICATION   3429.0   \n",
       "AT&T Messages for Tablet                          COMMUNICATION   3044.0   \n",
       "Antillean Gold Telegram (original version)        COMMUNICATION   2939.0   \n",
       "TownWiFi | Wi-Fi Everywhere                       COMMUNICATION   2372.0   \n",
       "PlacarTv Futebol Ao Vivo                          COMMUNICATION   2063.0   \n",
       "\n",
       "                                                   installs  \n",
       "Adblock Plus for Samsung Internet - Browse safe.  1000000.0  \n",
       "AW - free video calls and chat                    1000000.0  \n",
       "U - Webinars, Meetings & Messenger                 500000.0  \n",
       "AT&T Call Protect                                 5000000.0  \n",
       "Talkie - Wi-Fi Calling, Chats, File Sharing        500000.0  \n",
       "Goodbox - Mega App                                 100000.0  \n",
       "AT&T Messages for Tablet                          1000000.0  \n",
       "Antillean Gold Telegram (original version)         100000.0  \n",
       "TownWiFi | Wi-Fi Everywhere                        500000.0  \n",
       "PlacarTv Futebol Ao Vivo                           100000.0  "
      ]
     },
     "execution_count": 32,
     "metadata": {},
     "output_type": "execute_result"
    }
   ],
   "source": [
    "top_communication[140:150]"
   ]
  },
  {
   "cell_type": "markdown",
   "id": "5171361b",
   "metadata": {},
   "source": [
    "#### Let's do a quick calculation to see the difference in the number of reviews between the 1st and one of the apps in the middle of the list."
   ]
  },
  {
   "cell_type": "code",
   "execution_count": 33,
   "id": "2ca6525c",
   "metadata": {},
   "outputs": [
    {
     "data": {
      "text/plain": [
       "7882.234690386589"
      ]
     },
     "execution_count": 33,
     "metadata": {},
     "output_type": "execute_result"
    }
   ],
   "source": [
    "int(top_communication[top_communication.app == 'WhatsApp Messenger'].reviews)/int(top_communication[top_communication.app == 'Adblock Plus for Samsung Internet - Browse safe.'].reviews)"
   ]
  },
  {
   "cell_type": "code",
   "execution_count": 34,
   "id": "7722aba7",
   "metadata": {},
   "outputs": [
    {
     "data": {
      "text/plain": [
       "1000.0"
      ]
     },
     "execution_count": 34,
     "metadata": {},
     "output_type": "execute_result"
    }
   ],
   "source": [
    "# Difference in the number of installs between the 1st and one of the apps in the middle of the list.\n",
    "\n",
    "int(top_communication[top_communication.app == 'WhatsApp Messenger'].installs)/int(top_communication[top_communication.app == 'Adblock Plus for Samsung Internet - Browse safe.'].installs)"
   ]
  },
  {
   "cell_type": "markdown",
   "id": "17cdb3b8",
   "metadata": {},
   "source": [
    "<p style='background:yellow'>We can see that the number of reviews of WhatsApp and Messenger is 5-7 times higher than the 3rd app in the list, and the top 10 apps clearly have much higher reviews and installs than those are in the middle and the rest of the list. The average number was brought up to a higher number than it should be, so the result seems to be skewed.</p>"
   ]
  },
  {
   "cell_type": "markdown",
   "id": "03a186d5",
   "metadata": {},
   "source": [
    "**2. SOCIAL category**"
   ]
  },
  {
   "cell_type": "code",
   "execution_count": 35,
   "id": "6d122fe7",
   "metadata": {},
   "outputs": [
    {
     "data": {
      "text/plain": [
       "<bound method NDFrame.head of                            app category     reviews      installs\n",
       "Facebook              Facebook   SOCIAL  78158306.0  1.000000e+09\n",
       "Instagram            Instagram   SOCIAL  66577446.0  1.000000e+09\n",
       "Snapchat              Snapchat   SOCIAL  17015352.0  5.000000e+08\n",
       "Facebook Lite    Facebook Lite   SOCIAL   8606259.0  5.000000e+08\n",
       "VK                          VK   SOCIAL   5793284.0  1.000000e+08\n",
       "...                        ...      ...         ...           ...\n",
       "bm-Events            bm-Events   SOCIAL         0.0  1.000000e+01\n",
       "Reisedealz.eu    Reisedealz.eu   SOCIAL         0.0  1.000000e+01\n",
       "Rejoin Your Ex  Rejoin Your Ex   SOCIAL         0.0  1.000000e+02\n",
       "Amleen Ey            Amleen Ey   SOCIAL         0.0  1.000000e+00\n",
       "quran-DZ              quran-DZ   SOCIAL         0.0  1.000000e+01\n",
       "\n",
       "[236 rows x 4 columns]>"
      ]
     },
     "execution_count": 35,
     "metadata": {},
     "output_type": "execute_result"
    }
   ],
   "source": [
    "top_social = android2[android2['category'] == 'SOCIAL'].sort_values('reviews', ascending = False)\n",
    "top_social.head"
   ]
  },
  {
   "cell_type": "code",
   "execution_count": 36,
   "id": "65402687",
   "metadata": {},
   "outputs": [
    {
     "data": {
      "text/html": [
       "<div>\n",
       "<style scoped>\n",
       "    .dataframe tbody tr th:only-of-type {\n",
       "        vertical-align: middle;\n",
       "    }\n",
       "\n",
       "    .dataframe tbody tr th {\n",
       "        vertical-align: top;\n",
       "    }\n",
       "\n",
       "    .dataframe thead th {\n",
       "        text-align: right;\n",
       "    }\n",
       "</style>\n",
       "<table border=\"1\" class=\"dataframe\">\n",
       "  <thead>\n",
       "    <tr style=\"text-align: right;\">\n",
       "      <th></th>\n",
       "      <th>app</th>\n",
       "      <th>category</th>\n",
       "      <th>reviews</th>\n",
       "      <th>installs</th>\n",
       "    </tr>\n",
       "  </thead>\n",
       "  <tbody>\n",
       "    <tr>\n",
       "      <th>Patook - make platonic friends</th>\n",
       "      <td>Patook - make platonic friends</td>\n",
       "      <td>SOCIAL</td>\n",
       "      <td>3677.0</td>\n",
       "      <td>100000.0</td>\n",
       "    </tr>\n",
       "    <tr>\n",
       "      <th>Gayvox - Gay Lesbian Bi Dating</th>\n",
       "      <td>Gayvox - Gay Lesbian Bi Dating</td>\n",
       "      <td>SOCIAL</td>\n",
       "      <td>3640.0</td>\n",
       "      <td>500000.0</td>\n",
       "    </tr>\n",
       "    <tr>\n",
       "      <th>Eddsworld Amino</th>\n",
       "      <td>Eddsworld Amino</td>\n",
       "      <td>SOCIAL</td>\n",
       "      <td>3071.0</td>\n",
       "      <td>10000.0</td>\n",
       "    </tr>\n",
       "    <tr>\n",
       "      <th>MB Notifications for FB (Free)</th>\n",
       "      <td>MB Notifications for FB (Free)</td>\n",
       "      <td>SOCIAL</td>\n",
       "      <td>3047.0</td>\n",
       "      <td>100000.0</td>\n",
       "    </tr>\n",
       "    <tr>\n",
       "      <th>YAY - TBH</th>\n",
       "      <td>YAY - TBH</td>\n",
       "      <td>SOCIAL</td>\n",
       "      <td>2520.0</td>\n",
       "      <td>100000.0</td>\n",
       "    </tr>\n",
       "    <tr>\n",
       "      <th>Web Browser ( Fast &amp; Secure Web Explorer)</th>\n",
       "      <td>Web Browser ( Fast &amp; Secure Web Explorer)</td>\n",
       "      <td>SOCIAL</td>\n",
       "      <td>2508.0</td>\n",
       "      <td>500000.0</td>\n",
       "    </tr>\n",
       "    <tr>\n",
       "      <th>Dating.dk</th>\n",
       "      <td>Dating.dk</td>\n",
       "      <td>SOCIAL</td>\n",
       "      <td>2111.0</td>\n",
       "      <td>100000.0</td>\n",
       "    </tr>\n",
       "    <tr>\n",
       "      <th>FutureNet your social app</th>\n",
       "      <td>FutureNet your social app</td>\n",
       "      <td>SOCIAL</td>\n",
       "      <td>2093.0</td>\n",
       "      <td>100000.0</td>\n",
       "    </tr>\n",
       "    <tr>\n",
       "      <th>Dr B R Ambedkar (Jai Bhim)</th>\n",
       "      <td>Dr B R Ambedkar (Jai Bhim)</td>\n",
       "      <td>SOCIAL</td>\n",
       "      <td>2068.0</td>\n",
       "      <td>100000.0</td>\n",
       "    </tr>\n",
       "    <tr>\n",
       "      <th>uCiC- Videos and Photos on demand</th>\n",
       "      <td>uCiC- Videos and Photos on demand</td>\n",
       "      <td>SOCIAL</td>\n",
       "      <td>2052.0</td>\n",
       "      <td>100000.0</td>\n",
       "    </tr>\n",
       "  </tbody>\n",
       "</table>\n",
       "</div>"
      ],
      "text/plain": [
       "                                                                                 app  \\\n",
       "Patook - make platonic friends                        Patook - make platonic friends   \n",
       "Gayvox - Gay Lesbian Bi Dating                        Gayvox - Gay Lesbian Bi Dating   \n",
       "Eddsworld Amino                                                      Eddsworld Amino   \n",
       "MB Notifications for FB (Free)                        MB Notifications for FB (Free)   \n",
       "YAY - TBH                                                                  YAY - TBH   \n",
       "Web Browser ( Fast & Secure Web Explorer)  Web Browser ( Fast & Secure Web Explorer)   \n",
       "Dating.dk                                                                  Dating.dk   \n",
       "FutureNet your social app                                  FutureNet your social app   \n",
       "Dr B R Ambedkar (Jai Bhim)                                Dr B R Ambedkar (Jai Bhim)   \n",
       "uCiC- Videos and Photos on demand                  uCiC- Videos and Photos on demand   \n",
       "\n",
       "                                          category  reviews  installs  \n",
       "Patook - make platonic friends              SOCIAL   3677.0  100000.0  \n",
       "Gayvox - Gay Lesbian Bi Dating              SOCIAL   3640.0  500000.0  \n",
       "Eddsworld Amino                             SOCIAL   3071.0   10000.0  \n",
       "MB Notifications for FB (Free)              SOCIAL   3047.0  100000.0  \n",
       "YAY - TBH                                   SOCIAL   2520.0  100000.0  \n",
       "Web Browser ( Fast & Secure Web Explorer)   SOCIAL   2508.0  500000.0  \n",
       "Dating.dk                                   SOCIAL   2111.0  100000.0  \n",
       "FutureNet your social app                   SOCIAL   2093.0  100000.0  \n",
       "Dr B R Ambedkar (Jai Bhim)                  SOCIAL   2068.0  100000.0  \n",
       "uCiC- Videos and Photos on demand           SOCIAL   2052.0  100000.0  "
      ]
     },
     "execution_count": 36,
     "metadata": {},
     "output_type": "execute_result"
    }
   ],
   "source": [
    "# Middle rows\n",
    "top_social[120:130]"
   ]
  },
  {
   "cell_type": "code",
   "execution_count": 37,
   "id": "6d0f05c7",
   "metadata": {},
   "outputs": [
    {
     "data": {
      "text/plain": [
       "21255.998368234974"
      ]
     },
     "execution_count": 37,
     "metadata": {},
     "output_type": "execute_result"
    }
   ],
   "source": [
    "# Difference in the number of reviews between the 1st and one of the apps in the middle of the list.\n",
    "\n",
    "int(top_social[top_social.app == 'Facebook'].reviews)/int(top_social[top_social.app == 'Patook - make platonic friends'].reviews)"
   ]
  },
  {
   "cell_type": "code",
   "execution_count": 38,
   "id": "f8184f4d",
   "metadata": {},
   "outputs": [
    {
     "data": {
      "text/plain": [
       "10000.0"
      ]
     },
     "execution_count": 38,
     "metadata": {},
     "output_type": "execute_result"
    }
   ],
   "source": [
    "# Difference in the number of installs between the 1st and one of the apps in the middle of the list.\n",
    "\n",
    "int(top_social[top_social.app == 'Facebook'].installs)/int(top_social[top_social.app == 'Patook - make platonic friends'].installs)"
   ]
  },
  {
   "cell_type": "markdown",
   "id": "8e2cde0a",
   "metadata": {},
   "source": [
    "<p style='background:yellow'>We can also see the same pattern here for the social category, where the market seems to be dominated by some giant apps (like Facebook, Instagram, Snapchat, etc..) which have tens of millions of user ratings, while the other apps may struggle to get past the 10,000 threshold.</p>"
   ]
  },
  {
   "cell_type": "markdown",
   "id": "768bb1c2",
   "metadata": {},
   "source": [
    "**3. GAME category**"
   ]
  },
  {
   "cell_type": "code",
   "execution_count": 39,
   "id": "df0ce855",
   "metadata": {},
   "outputs": [
    {
     "data": {
      "text/html": [
       "<div>\n",
       "<style scoped>\n",
       "    .dataframe tbody tr th:only-of-type {\n",
       "        vertical-align: middle;\n",
       "    }\n",
       "\n",
       "    .dataframe tbody tr th {\n",
       "        vertical-align: top;\n",
       "    }\n",
       "\n",
       "    .dataframe thead th {\n",
       "        text-align: right;\n",
       "    }\n",
       "</style>\n",
       "<table border=\"1\" class=\"dataframe\">\n",
       "  <thead>\n",
       "    <tr style=\"text-align: right;\">\n",
       "      <th></th>\n",
       "      <th>app</th>\n",
       "      <th>category</th>\n",
       "      <th>reviews</th>\n",
       "      <th>installs</th>\n",
       "    </tr>\n",
       "  </thead>\n",
       "  <tbody>\n",
       "    <tr>\n",
       "      <th>Clash of Clans</th>\n",
       "      <td>Clash of Clans</td>\n",
       "      <td>GAME</td>\n",
       "      <td>44893888.0</td>\n",
       "      <td>1.000000e+08</td>\n",
       "    </tr>\n",
       "    <tr>\n",
       "      <th>Subway Surfers</th>\n",
       "      <td>Subway Surfers</td>\n",
       "      <td>GAME</td>\n",
       "      <td>27725352.0</td>\n",
       "      <td>1.000000e+09</td>\n",
       "    </tr>\n",
       "    <tr>\n",
       "      <th>Clash Royale</th>\n",
       "      <td>Clash Royale</td>\n",
       "      <td>GAME</td>\n",
       "      <td>23136735.0</td>\n",
       "      <td>1.000000e+08</td>\n",
       "    </tr>\n",
       "    <tr>\n",
       "      <th>Candy Crush Saga</th>\n",
       "      <td>Candy Crush Saga</td>\n",
       "      <td>GAME</td>\n",
       "      <td>22430188.0</td>\n",
       "      <td>5.000000e+08</td>\n",
       "    </tr>\n",
       "    <tr>\n",
       "      <th>My Talking Tom</th>\n",
       "      <td>My Talking Tom</td>\n",
       "      <td>GAME</td>\n",
       "      <td>14892469.0</td>\n",
       "      <td>5.000000e+08</td>\n",
       "    </tr>\n",
       "    <tr>\n",
       "      <th>...</th>\n",
       "      <td>...</td>\n",
       "      <td>...</td>\n",
       "      <td>...</td>\n",
       "      <td>...</td>\n",
       "    </tr>\n",
       "    <tr>\n",
       "      <th>Nedir Bu ?</th>\n",
       "      <td>Nedir Bu ?</td>\n",
       "      <td>GAME</td>\n",
       "      <td>0.0</td>\n",
       "      <td>1.000000e+01</td>\n",
       "    </tr>\n",
       "    <tr>\n",
       "      <th>Simple x3DS Emulator - BETA</th>\n",
       "      <td>Simple x3DS Emulator - BETA</td>\n",
       "      <td>GAME</td>\n",
       "      <td>0.0</td>\n",
       "      <td>5.000000e+04</td>\n",
       "    </tr>\n",
       "    <tr>\n",
       "      <th>Cyborg AX-001</th>\n",
       "      <td>Cyborg AX-001</td>\n",
       "      <td>GAME</td>\n",
       "      <td>0.0</td>\n",
       "      <td>5.000000e+01</td>\n",
       "    </tr>\n",
       "    <tr>\n",
       "      <th>Animal Hunting: Sniper Shooting</th>\n",
       "      <td>Animal Hunting: Sniper Shooting</td>\n",
       "      <td>GAME</td>\n",
       "      <td>0.0</td>\n",
       "      <td>5.000000e+01</td>\n",
       "    </tr>\n",
       "    <tr>\n",
       "      <th>Ay Vamos - PJ. Balvin - Piano</th>\n",
       "      <td>Ay Vamos - PJ. Balvin - Piano</td>\n",
       "      <td>GAME</td>\n",
       "      <td>0.0</td>\n",
       "      <td>5.000000e+00</td>\n",
       "    </tr>\n",
       "  </tbody>\n",
       "</table>\n",
       "<p>859 rows × 4 columns</p>\n",
       "</div>"
      ],
      "text/plain": [
       "                                                             app category  \\\n",
       "Clash of Clans                                    Clash of Clans     GAME   \n",
       "Subway Surfers                                    Subway Surfers     GAME   \n",
       "Clash Royale                                        Clash Royale     GAME   \n",
       "Candy Crush Saga                                Candy Crush Saga     GAME   \n",
       "My Talking Tom                                    My Talking Tom     GAME   \n",
       "...                                                          ...      ...   \n",
       "Nedir Bu ?                                            Nedir Bu ?     GAME   \n",
       "Simple x3DS Emulator - BETA          Simple x3DS Emulator - BETA     GAME   \n",
       "Cyborg AX-001                                      Cyborg AX-001     GAME   \n",
       "Animal Hunting: Sniper Shooting  Animal Hunting: Sniper Shooting     GAME   \n",
       "Ay Vamos - PJ. Balvin - Piano      Ay Vamos - PJ. Balvin - Piano     GAME   \n",
       "\n",
       "                                    reviews      installs  \n",
       "Clash of Clans                   44893888.0  1.000000e+08  \n",
       "Subway Surfers                   27725352.0  1.000000e+09  \n",
       "Clash Royale                     23136735.0  1.000000e+08  \n",
       "Candy Crush Saga                 22430188.0  5.000000e+08  \n",
       "My Talking Tom                   14892469.0  5.000000e+08  \n",
       "...                                     ...           ...  \n",
       "Nedir Bu ?                              0.0  1.000000e+01  \n",
       "Simple x3DS Emulator - BETA             0.0  5.000000e+04  \n",
       "Cyborg AX-001                           0.0  5.000000e+01  \n",
       "Animal Hunting: Sniper Shooting         0.0  5.000000e+01  \n",
       "Ay Vamos - PJ. Balvin - Piano           0.0  5.000000e+00  \n",
       "\n",
       "[859 rows x 4 columns]"
      ]
     },
     "execution_count": 39,
     "metadata": {},
     "output_type": "execute_result"
    }
   ],
   "source": [
    "top_game = android2[android2['category'] == 'GAME'].sort_values('reviews', ascending = False)\n",
    "top_game"
   ]
  },
  {
   "cell_type": "code",
   "execution_count": 40,
   "id": "b11020c1",
   "metadata": {
    "scrolled": true
   },
   "outputs": [
    {
     "data": {
      "text/html": [
       "<div>\n",
       "<style scoped>\n",
       "    .dataframe tbody tr th:only-of-type {\n",
       "        vertical-align: middle;\n",
       "    }\n",
       "\n",
       "    .dataframe tbody tr th {\n",
       "        vertical-align: top;\n",
       "    }\n",
       "\n",
       "    .dataframe thead th {\n",
       "        text-align: right;\n",
       "    }\n",
       "</style>\n",
       "<table border=\"1\" class=\"dataframe\">\n",
       "  <thead>\n",
       "    <tr style=\"text-align: right;\">\n",
       "      <th></th>\n",
       "      <th>app</th>\n",
       "      <th>category</th>\n",
       "      <th>reviews</th>\n",
       "      <th>installs</th>\n",
       "    </tr>\n",
       "  </thead>\n",
       "  <tbody>\n",
       "    <tr>\n",
       "      <th>RC Monster Truck - Offroad Driving Simulator</th>\n",
       "      <td>RC Monster Truck - Offroad Driving Simulator</td>\n",
       "      <td>GAME</td>\n",
       "      <td>38448.0</td>\n",
       "      <td>5000000.0</td>\n",
       "    </tr>\n",
       "    <tr>\n",
       "      <th>Bounce Classic</th>\n",
       "      <td>Bounce Classic</td>\n",
       "      <td>GAME</td>\n",
       "      <td>38297.0</td>\n",
       "      <td>10000000.0</td>\n",
       "    </tr>\n",
       "    <tr>\n",
       "      <th>Cops N Robbers</th>\n",
       "      <td>Cops N Robbers</td>\n",
       "      <td>GAME</td>\n",
       "      <td>37789.0</td>\n",
       "      <td>1000000.0</td>\n",
       "    </tr>\n",
       "    <tr>\n",
       "      <th>Sky Streaker - Gumball</th>\n",
       "      <td>Sky Streaker - Gumball</td>\n",
       "      <td>GAME</td>\n",
       "      <td>37513.0</td>\n",
       "      <td>5000000.0</td>\n",
       "    </tr>\n",
       "    <tr>\n",
       "      <th>Solitaire: Decked Out Ad Free</th>\n",
       "      <td>Solitaire: Decked Out Ad Free</td>\n",
       "      <td>GAME</td>\n",
       "      <td>37302.0</td>\n",
       "      <td>500000.0</td>\n",
       "    </tr>\n",
       "    <tr>\n",
       "      <th>Once Upon a Tower</th>\n",
       "      <td>Once Upon a Tower</td>\n",
       "      <td>GAME</td>\n",
       "      <td>37139.0</td>\n",
       "      <td>1000000.0</td>\n",
       "    </tr>\n",
       "    <tr>\n",
       "      <th>Paint Hit</th>\n",
       "      <td>Paint Hit</td>\n",
       "      <td>GAME</td>\n",
       "      <td>37023.0</td>\n",
       "      <td>10000000.0</td>\n",
       "    </tr>\n",
       "    <tr>\n",
       "      <th>iSniper 3D Arctic Warfare</th>\n",
       "      <td>iSniper 3D Arctic Warfare</td>\n",
       "      <td>GAME</td>\n",
       "      <td>35572.0</td>\n",
       "      <td>1000000.0</td>\n",
       "    </tr>\n",
       "    <tr>\n",
       "      <th>Motocross Mayhem</th>\n",
       "      <td>Motocross Mayhem</td>\n",
       "      <td>GAME</td>\n",
       "      <td>35171.0</td>\n",
       "      <td>1000000.0</td>\n",
       "    </tr>\n",
       "    <tr>\n",
       "      <th>Super Jabber Jump 3</th>\n",
       "      <td>Super Jabber Jump 3</td>\n",
       "      <td>GAME</td>\n",
       "      <td>34494.0</td>\n",
       "      <td>5000000.0</td>\n",
       "    </tr>\n",
       "  </tbody>\n",
       "</table>\n",
       "</div>"
      ],
      "text/plain": [
       "                                                                                       app  \\\n",
       "RC Monster Truck - Offroad Driving Simulator  RC Monster Truck - Offroad Driving Simulator   \n",
       "Bounce Classic                                                              Bounce Classic   \n",
       "Cops N Robbers                                                              Cops N Robbers   \n",
       "Sky Streaker - Gumball                                              Sky Streaker - Gumball   \n",
       "Solitaire: Decked Out Ad Free                                Solitaire: Decked Out Ad Free   \n",
       "Once Upon a Tower                                                        Once Upon a Tower   \n",
       "Paint Hit                                                                        Paint Hit   \n",
       "iSniper 3D Arctic Warfare                                        iSniper 3D Arctic Warfare   \n",
       "Motocross Mayhem                                                          Motocross Mayhem   \n",
       "Super Jabber Jump 3                                                    Super Jabber Jump 3   \n",
       "\n",
       "                                             category  reviews    installs  \n",
       "RC Monster Truck - Offroad Driving Simulator     GAME  38448.0   5000000.0  \n",
       "Bounce Classic                                   GAME  38297.0  10000000.0  \n",
       "Cops N Robbers                                   GAME  37789.0   1000000.0  \n",
       "Sky Streaker - Gumball                           GAME  37513.0   5000000.0  \n",
       "Solitaire: Decked Out Ad Free                    GAME  37302.0    500000.0  \n",
       "Once Upon a Tower                                GAME  37139.0   1000000.0  \n",
       "Paint Hit                                        GAME  37023.0  10000000.0  \n",
       "iSniper 3D Arctic Warfare                        GAME  35572.0   1000000.0  \n",
       "Motocross Mayhem                                 GAME  35171.0   1000000.0  \n",
       "Super Jabber Jump 3                              GAME  34494.0   5000000.0  "
      ]
     },
     "execution_count": 40,
     "metadata": {},
     "output_type": "execute_result"
    }
   ],
   "source": [
    "# Middle rows\n",
    "top_game[420:430]"
   ]
  },
  {
   "cell_type": "code",
   "execution_count": 41,
   "id": "d513bb2f",
   "metadata": {},
   "outputs": [
    {
     "data": {
      "text/plain": [
       "721.1129837702871"
      ]
     },
     "execution_count": 41,
     "metadata": {},
     "output_type": "execute_result"
    }
   ],
   "source": [
    "# Difference in the number of reviews between the 1st and one of the apps in the middle of the list.\n",
    "\n",
    "int(top_game[top_game.app == 'Subway Surfers'].reviews)/int(top_game[top_game.app == 'RC Monster Truck - Offroad Driving Simulator'].reviews)"
   ]
  },
  {
   "cell_type": "code",
   "execution_count": 42,
   "id": "b626e790",
   "metadata": {},
   "outputs": [
    {
     "data": {
      "text/plain": [
       "200.0"
      ]
     },
     "execution_count": 42,
     "metadata": {},
     "output_type": "execute_result"
    }
   ],
   "source": [
    "# Difference in the number of installs between the 1st and one of the apps in the middle of the list.\n",
    "\n",
    "int(top_game[top_game.app == 'Subway Surfers'].installs)/int(top_game[top_game.app == 'RC Monster Truck - Offroad Driving Simulator'].installs)"
   ]
  },
  {
   "cell_type": "markdown",
   "id": "f6bb34ca",
   "metadata": {},
   "source": [
    "<p style='background:yellow'>This category seems to be much less skewed. But if we go back to the first graph of most common categories, we can see that Game app already accounts for approximately 10% of Google Play Store (the second-highest common in the list), so it can be difficult for our company to acquire new customers. Let's continue to see if we can find a better category to develop. </p>"
   ]
  },
  {
   "cell_type": "markdown",
   "id": "7e1e3b5d",
   "metadata": {},
   "source": [
    "**4. VIDEO_PLAYERS category**"
   ]
  },
  {
   "cell_type": "code",
   "execution_count": 43,
   "id": "8b2c9281",
   "metadata": {},
   "outputs": [
    {
     "data": {
      "text/html": [
       "<div>\n",
       "<style scoped>\n",
       "    .dataframe tbody tr th:only-of-type {\n",
       "        vertical-align: middle;\n",
       "    }\n",
       "\n",
       "    .dataframe tbody tr th {\n",
       "        vertical-align: top;\n",
       "    }\n",
       "\n",
       "    .dataframe thead th {\n",
       "        text-align: right;\n",
       "    }\n",
       "</style>\n",
       "<table border=\"1\" class=\"dataframe\">\n",
       "  <thead>\n",
       "    <tr style=\"text-align: right;\">\n",
       "      <th></th>\n",
       "      <th>app</th>\n",
       "      <th>category</th>\n",
       "      <th>reviews</th>\n",
       "      <th>installs</th>\n",
       "    </tr>\n",
       "  </thead>\n",
       "  <tbody>\n",
       "    <tr>\n",
       "      <th>YouTube</th>\n",
       "      <td>YouTube</td>\n",
       "      <td>VIDEO_PLAYERS</td>\n",
       "      <td>25655305.0</td>\n",
       "      <td>1.000000e+09</td>\n",
       "    </tr>\n",
       "    <tr>\n",
       "      <th>VivaVideo - Video Editor &amp; Photo Movie</th>\n",
       "      <td>VivaVideo - Video Editor &amp; Photo Movie</td>\n",
       "      <td>VIDEO_PLAYERS</td>\n",
       "      <td>9879473.0</td>\n",
       "      <td>1.000000e+08</td>\n",
       "    </tr>\n",
       "    <tr>\n",
       "      <th>MX Player</th>\n",
       "      <td>MX Player</td>\n",
       "      <td>VIDEO_PLAYERS</td>\n",
       "      <td>6474672.0</td>\n",
       "      <td>5.000000e+08</td>\n",
       "    </tr>\n",
       "    <tr>\n",
       "      <th>VideoShow-Video Editor, Video Maker, Beauty Camera</th>\n",
       "      <td>VideoShow-Video Editor, Video Maker, Beauty Ca...</td>\n",
       "      <td>VIDEO_PLAYERS</td>\n",
       "      <td>4016834.0</td>\n",
       "      <td>1.000000e+08</td>\n",
       "    </tr>\n",
       "    <tr>\n",
       "      <th>DU Recorder – Screen Recorder, Video Editor, Live</th>\n",
       "      <td>DU Recorder – Screen Recorder, Video Editor, Live</td>\n",
       "      <td>VIDEO_PLAYERS</td>\n",
       "      <td>2588730.0</td>\n",
       "      <td>5.000000e+07</td>\n",
       "    </tr>\n",
       "    <tr>\n",
       "      <th>...</th>\n",
       "      <td>...</td>\n",
       "      <td>...</td>\n",
       "      <td>...</td>\n",
       "      <td>...</td>\n",
       "    </tr>\n",
       "    <tr>\n",
       "      <th>List iptv FR</th>\n",
       "      <td>List iptv FR</td>\n",
       "      <td>VIDEO_PLAYERS</td>\n",
       "      <td>1.0</td>\n",
       "      <td>1.000000e+02</td>\n",
       "    </tr>\n",
       "    <tr>\n",
       "      <th>CI Stream</th>\n",
       "      <td>CI Stream</td>\n",
       "      <td>VIDEO_PLAYERS</td>\n",
       "      <td>0.0</td>\n",
       "      <td>1.000000e+01</td>\n",
       "    </tr>\n",
       "    <tr>\n",
       "      <th>BG MUSIC PLAYER - MUSIC PLAYER</th>\n",
       "      <td>BG MUSIC PLAYER - MUSIC PLAYER</td>\n",
       "      <td>VIDEO_PLAYERS</td>\n",
       "      <td>0.0</td>\n",
       "      <td>1.000000e+02</td>\n",
       "    </tr>\n",
       "    <tr>\n",
       "      <th>Bx-WiFi-GI</th>\n",
       "      <td>Bx-WiFi-GI</td>\n",
       "      <td>VIDEO_PLAYERS</td>\n",
       "      <td>0.0</td>\n",
       "      <td>1.000000e+02</td>\n",
       "    </tr>\n",
       "    <tr>\n",
       "      <th>Video Wallpaper Show</th>\n",
       "      <td>Video Wallpaper Show</td>\n",
       "      <td>VIDEO_PLAYERS</td>\n",
       "      <td>0.0</td>\n",
       "      <td>5.000000e+02</td>\n",
       "    </tr>\n",
       "  </tbody>\n",
       "</table>\n",
       "<p>159 rows × 4 columns</p>\n",
       "</div>"
      ],
      "text/plain": [
       "                                                                                                  app  \\\n",
       "YouTube                                                                                       YouTube   \n",
       "VivaVideo - Video Editor & Photo Movie                         VivaVideo - Video Editor & Photo Movie   \n",
       "MX Player                                                                                   MX Player   \n",
       "VideoShow-Video Editor, Video Maker, Beauty Camera  VideoShow-Video Editor, Video Maker, Beauty Ca...   \n",
       "DU Recorder – Screen Recorder, Video Editor, Live   DU Recorder – Screen Recorder, Video Editor, Live   \n",
       "...                                                                                               ...   \n",
       "List iptv FR                                                                             List iptv FR   \n",
       "CI Stream                                                                                   CI Stream   \n",
       "BG MUSIC PLAYER - MUSIC PLAYER                                         BG MUSIC PLAYER - MUSIC PLAYER   \n",
       "Bx-WiFi-GI                                                                                 Bx-WiFi-GI   \n",
       "Video Wallpaper Show                                                             Video Wallpaper Show   \n",
       "\n",
       "                                                         category     reviews  \\\n",
       "YouTube                                             VIDEO_PLAYERS  25655305.0   \n",
       "VivaVideo - Video Editor & Photo Movie              VIDEO_PLAYERS   9879473.0   \n",
       "MX Player                                           VIDEO_PLAYERS   6474672.0   \n",
       "VideoShow-Video Editor, Video Maker, Beauty Camera  VIDEO_PLAYERS   4016834.0   \n",
       "DU Recorder – Screen Recorder, Video Editor, Live   VIDEO_PLAYERS   2588730.0   \n",
       "...                                                           ...         ...   \n",
       "List iptv FR                                        VIDEO_PLAYERS         1.0   \n",
       "CI Stream                                           VIDEO_PLAYERS         0.0   \n",
       "BG MUSIC PLAYER - MUSIC PLAYER                      VIDEO_PLAYERS         0.0   \n",
       "Bx-WiFi-GI                                          VIDEO_PLAYERS         0.0   \n",
       "Video Wallpaper Show                                VIDEO_PLAYERS         0.0   \n",
       "\n",
       "                                                        installs  \n",
       "YouTube                                             1.000000e+09  \n",
       "VivaVideo - Video Editor & Photo Movie              1.000000e+08  \n",
       "MX Player                                           5.000000e+08  \n",
       "VideoShow-Video Editor, Video Maker, Beauty Camera  1.000000e+08  \n",
       "DU Recorder – Screen Recorder, Video Editor, Live   5.000000e+07  \n",
       "...                                                          ...  \n",
       "List iptv FR                                        1.000000e+02  \n",
       "CI Stream                                           1.000000e+01  \n",
       "BG MUSIC PLAYER - MUSIC PLAYER                      1.000000e+02  \n",
       "Bx-WiFi-GI                                          1.000000e+02  \n",
       "Video Wallpaper Show                                5.000000e+02  \n",
       "\n",
       "[159 rows x 4 columns]"
      ]
     },
     "execution_count": 43,
     "metadata": {},
     "output_type": "execute_result"
    }
   ],
   "source": [
    "top_video_players = android2[android2['category'] == 'VIDEO_PLAYERS'].sort_values('reviews', ascending = False)\n",
    "top_video_players"
   ]
  },
  {
   "cell_type": "code",
   "execution_count": 44,
   "id": "30c99f89",
   "metadata": {},
   "outputs": [
    {
     "data": {
      "text/html": [
       "<div>\n",
       "<style scoped>\n",
       "    .dataframe tbody tr th:only-of-type {\n",
       "        vertical-align: middle;\n",
       "    }\n",
       "\n",
       "    .dataframe tbody tr th {\n",
       "        vertical-align: top;\n",
       "    }\n",
       "\n",
       "    .dataframe thead th {\n",
       "        text-align: right;\n",
       "    }\n",
       "</style>\n",
       "<table border=\"1\" class=\"dataframe\">\n",
       "  <thead>\n",
       "    <tr style=\"text-align: right;\">\n",
       "      <th></th>\n",
       "      <th>app</th>\n",
       "      <th>category</th>\n",
       "      <th>reviews</th>\n",
       "      <th>installs</th>\n",
       "    </tr>\n",
       "  </thead>\n",
       "  <tbody>\n",
       "    <tr>\n",
       "      <th>XX HD Video downloader-Free Video Downloader</th>\n",
       "      <td>XX HD Video downloader-Free Video Downloader</td>\n",
       "      <td>VIDEO_PLAYERS</td>\n",
       "      <td>7624.0</td>\n",
       "      <td>1000000.0</td>\n",
       "    </tr>\n",
       "    <tr>\n",
       "      <th>All Video Downloader 2018</th>\n",
       "      <td>All Video Downloader 2018</td>\n",
       "      <td>VIDEO_PLAYERS</td>\n",
       "      <td>7557.0</td>\n",
       "      <td>1000000.0</td>\n",
       "    </tr>\n",
       "    <tr>\n",
       "      <th>DS photo</th>\n",
       "      <td>DS photo</td>\n",
       "      <td>VIDEO_PLAYERS</td>\n",
       "      <td>7335.0</td>\n",
       "      <td>1000000.0</td>\n",
       "    </tr>\n",
       "    <tr>\n",
       "      <th>DR TV</th>\n",
       "      <td>DR TV</td>\n",
       "      <td>VIDEO_PLAYERS</td>\n",
       "      <td>6716.0</td>\n",
       "      <td>500000.0</td>\n",
       "    </tr>\n",
       "    <tr>\n",
       "      <th>Video Status</th>\n",
       "      <td>Video Status</td>\n",
       "      <td>VIDEO_PLAYERS</td>\n",
       "      <td>6685.0</td>\n",
       "      <td>1000000.0</td>\n",
       "    </tr>\n",
       "    <tr>\n",
       "      <th>HTC Service—Video Player</th>\n",
       "      <td>HTC Service—Video Player</td>\n",
       "      <td>VIDEO_PLAYERS</td>\n",
       "      <td>6449.0</td>\n",
       "      <td>5000000.0</td>\n",
       "    </tr>\n",
       "    <tr>\n",
       "      <th>iPlayIT for YouTube VR Player</th>\n",
       "      <td>iPlayIT for YouTube VR Player</td>\n",
       "      <td>VIDEO_PLAYERS</td>\n",
       "      <td>5879.0</td>\n",
       "      <td>1000000.0</td>\n",
       "    </tr>\n",
       "    <tr>\n",
       "      <th>iSmart DV</th>\n",
       "      <td>iSmart DV</td>\n",
       "      <td>VIDEO_PLAYERS</td>\n",
       "      <td>5692.0</td>\n",
       "      <td>1000000.0</td>\n",
       "    </tr>\n",
       "    <tr>\n",
       "      <th>VPlayer</th>\n",
       "      <td>VPlayer</td>\n",
       "      <td>VIDEO_PLAYERS</td>\n",
       "      <td>5639.0</td>\n",
       "      <td>1000000.0</td>\n",
       "    </tr>\n",
       "    <tr>\n",
       "      <th>OnePlus Gallery</th>\n",
       "      <td>OnePlus Gallery</td>\n",
       "      <td>VIDEO_PLAYERS</td>\n",
       "      <td>5555.0</td>\n",
       "      <td>1000000.0</td>\n",
       "    </tr>\n",
       "  </tbody>\n",
       "</table>\n",
       "</div>"
      ],
      "text/plain": [
       "                                                                                       app  \\\n",
       "XX HD Video downloader-Free Video Downloader  XX HD Video downloader-Free Video Downloader   \n",
       "All Video Downloader 2018                                        All Video Downloader 2018   \n",
       "DS photo                                                                          DS photo   \n",
       "DR TV                                                                                DR TV   \n",
       "Video Status                                                                  Video Status   \n",
       "HTC Service—Video Player                                          HTC Service—Video Player   \n",
       "iPlayIT for YouTube VR Player                                iPlayIT for YouTube VR Player   \n",
       "iSmart DV                                                                        iSmart DV   \n",
       "VPlayer                                                                            VPlayer   \n",
       "OnePlus Gallery                                                            OnePlus Gallery   \n",
       "\n",
       "                                                   category  reviews  \\\n",
       "XX HD Video downloader-Free Video Downloader  VIDEO_PLAYERS   7624.0   \n",
       "All Video Downloader 2018                     VIDEO_PLAYERS   7557.0   \n",
       "DS photo                                      VIDEO_PLAYERS   7335.0   \n",
       "DR TV                                         VIDEO_PLAYERS   6716.0   \n",
       "Video Status                                  VIDEO_PLAYERS   6685.0   \n",
       "HTC Service—Video Player                      VIDEO_PLAYERS   6449.0   \n",
       "iPlayIT for YouTube VR Player                 VIDEO_PLAYERS   5879.0   \n",
       "iSmart DV                                     VIDEO_PLAYERS   5692.0   \n",
       "VPlayer                                       VIDEO_PLAYERS   5639.0   \n",
       "OnePlus Gallery                               VIDEO_PLAYERS   5555.0   \n",
       "\n",
       "                                               installs  \n",
       "XX HD Video downloader-Free Video Downloader  1000000.0  \n",
       "All Video Downloader 2018                     1000000.0  \n",
       "DS photo                                      1000000.0  \n",
       "DR TV                                          500000.0  \n",
       "Video Status                                  1000000.0  \n",
       "HTC Service—Video Player                      5000000.0  \n",
       "iPlayIT for YouTube VR Player                 1000000.0  \n",
       "iSmart DV                                     1000000.0  \n",
       "VPlayer                                       1000000.0  \n",
       "OnePlus Gallery                               1000000.0  "
      ]
     },
     "execution_count": 44,
     "metadata": {},
     "output_type": "execute_result"
    }
   ],
   "source": [
    "# Middle rows\n",
    "top_video_players[70:80]"
   ]
  },
  {
   "cell_type": "code",
   "execution_count": 45,
   "id": "54a28521",
   "metadata": {},
   "outputs": [
    {
     "data": {
      "text/plain": [
       "3365.07148478489"
      ]
     },
     "execution_count": 45,
     "metadata": {},
     "output_type": "execute_result"
    }
   ],
   "source": [
    "# Difference in the number of reviews between the 1st and one of the apps in the middle of the list.\n",
    "\n",
    "int(top_video_players[top_video_players.app == 'YouTube'].reviews)/int(top_video_players[top_video_players.app == 'XX HD Video downloader-Free Video Downloader'].reviews)"
   ]
  },
  {
   "cell_type": "code",
   "execution_count": 46,
   "id": "14c85203",
   "metadata": {},
   "outputs": [
    {
     "data": {
      "text/plain": [
       "1000.0"
      ]
     },
     "execution_count": 46,
     "metadata": {},
     "output_type": "execute_result"
    }
   ],
   "source": [
    "# Difference in the number of installs between the 1st and one of the apps in the middle of the list.\n",
    "\n",
    "int(top_video_players[top_video_players.app == 'YouTube'].installs)/int(top_video_players[top_video_players.app == 'XX HD Video downloader-Free Video Downloader'].installs)"
   ]
  },
  {
   "cell_type": "markdown",
   "id": "bc324ff4",
   "metadata": {},
   "source": [
    "<p style='background:yellow'>We see the pattern again for the video players category, with some top apps having millions of reviews, which are thousands of times higher than some apps in the middle of the list. The market is dominated by apps like Youtube, VivaVideo, or MX Player.</p>"
   ]
  },
  {
   "cell_type": "markdown",
   "id": "82502944",
   "metadata": {},
   "source": [
    "**5. PHOTOGRAPHY category**"
   ]
  },
  {
   "cell_type": "code",
   "execution_count": 47,
   "id": "5205b440",
   "metadata": {},
   "outputs": [
    {
     "data": {
      "text/html": [
       "<div>\n",
       "<style scoped>\n",
       "    .dataframe tbody tr th:only-of-type {\n",
       "        vertical-align: middle;\n",
       "    }\n",
       "\n",
       "    .dataframe tbody tr th {\n",
       "        vertical-align: top;\n",
       "    }\n",
       "\n",
       "    .dataframe thead th {\n",
       "        text-align: right;\n",
       "    }\n",
       "</style>\n",
       "<table border=\"1\" class=\"dataframe\">\n",
       "  <thead>\n",
       "    <tr style=\"text-align: right;\">\n",
       "      <th></th>\n",
       "      <th>app</th>\n",
       "      <th>category</th>\n",
       "      <th>reviews</th>\n",
       "      <th>installs</th>\n",
       "    </tr>\n",
       "  </thead>\n",
       "  <tbody>\n",
       "    <tr>\n",
       "      <th>Google Photos</th>\n",
       "      <td>Google Photos</td>\n",
       "      <td>PHOTOGRAPHY</td>\n",
       "      <td>10859051.0</td>\n",
       "      <td>1.000000e+09</td>\n",
       "    </tr>\n",
       "    <tr>\n",
       "      <th>PicsArt Photo Studio: Collage Maker &amp; Pic Editor</th>\n",
       "      <td>PicsArt Photo Studio: Collage Maker &amp; Pic Editor</td>\n",
       "      <td>PHOTOGRAPHY</td>\n",
       "      <td>7594559.0</td>\n",
       "      <td>1.000000e+08</td>\n",
       "    </tr>\n",
       "    <tr>\n",
       "      <th>PhotoGrid: Video &amp; Pic Collage Maker, Photo Editor</th>\n",
       "      <td>PhotoGrid: Video &amp; Pic Collage Maker, Photo Ed...</td>\n",
       "      <td>PHOTOGRAPHY</td>\n",
       "      <td>7529865.0</td>\n",
       "      <td>1.000000e+08</td>\n",
       "    </tr>\n",
       "    <tr>\n",
       "      <th>Retrica</th>\n",
       "      <td>Retrica</td>\n",
       "      <td>PHOTOGRAPHY</td>\n",
       "      <td>6120977.0</td>\n",
       "      <td>1.000000e+08</td>\n",
       "    </tr>\n",
       "    <tr>\n",
       "      <th>B612 - Beauty &amp; Filter Camera</th>\n",
       "      <td>B612 - Beauty &amp; Filter Camera</td>\n",
       "      <td>PHOTOGRAPHY</td>\n",
       "      <td>5282578.0</td>\n",
       "      <td>1.000000e+08</td>\n",
       "    </tr>\n",
       "    <tr>\n",
       "      <th>...</th>\n",
       "      <td>...</td>\n",
       "      <td>...</td>\n",
       "      <td>...</td>\n",
       "      <td>...</td>\n",
       "    </tr>\n",
       "    <tr>\n",
       "      <th>Touch DV</th>\n",
       "      <td>Touch DV</td>\n",
       "      <td>PHOTOGRAPHY</td>\n",
       "      <td>1.0</td>\n",
       "      <td>5.000000e+01</td>\n",
       "    </tr>\n",
       "    <tr>\n",
       "      <th>AI Image Recognizer (beta)</th>\n",
       "      <td>AI Image Recognizer (beta)</td>\n",
       "      <td>PHOTOGRAPHY</td>\n",
       "      <td>0.0</td>\n",
       "      <td>5.000000e+02</td>\n",
       "    </tr>\n",
       "    <tr>\n",
       "      <th>BG Editor</th>\n",
       "      <td>BG Editor</td>\n",
       "      <td>PHOTOGRAPHY</td>\n",
       "      <td>0.0</td>\n",
       "      <td>5.000000e+00</td>\n",
       "    </tr>\n",
       "    <tr>\n",
       "      <th>LC-DB-LITE</th>\n",
       "      <td>LC-DB-LITE</td>\n",
       "      <td>PHOTOGRAPHY</td>\n",
       "      <td>0.0</td>\n",
       "      <td>1.000000e+02</td>\n",
       "    </tr>\n",
       "    <tr>\n",
       "      <th>Blender BG - Photo Blend With Background</th>\n",
       "      <td>Blender BG - Photo Blend With Background</td>\n",
       "      <td>PHOTOGRAPHY</td>\n",
       "      <td>0.0</td>\n",
       "      <td>1.000000e+02</td>\n",
       "    </tr>\n",
       "  </tbody>\n",
       "</table>\n",
       "<p>261 rows × 4 columns</p>\n",
       "</div>"
      ],
      "text/plain": [
       "                                                                                                  app  \\\n",
       "Google Photos                                                                           Google Photos   \n",
       "PicsArt Photo Studio: Collage Maker & Pic Editor     PicsArt Photo Studio: Collage Maker & Pic Editor   \n",
       "PhotoGrid: Video & Pic Collage Maker, Photo Editor  PhotoGrid: Video & Pic Collage Maker, Photo Ed...   \n",
       "Retrica                                                                                       Retrica   \n",
       "B612 - Beauty & Filter Camera                                           B612 - Beauty & Filter Camera   \n",
       "...                                                                                               ...   \n",
       "Touch DV                                                                                     Touch DV   \n",
       "AI Image Recognizer (beta)                                                 AI Image Recognizer (beta)   \n",
       "BG Editor                                                                                   BG Editor   \n",
       "LC-DB-LITE                                                                                 LC-DB-LITE   \n",
       "Blender BG - Photo Blend With Background                     Blender BG - Photo Blend With Background   \n",
       "\n",
       "                                                       category     reviews  \\\n",
       "Google Photos                                       PHOTOGRAPHY  10859051.0   \n",
       "PicsArt Photo Studio: Collage Maker & Pic Editor    PHOTOGRAPHY   7594559.0   \n",
       "PhotoGrid: Video & Pic Collage Maker, Photo Editor  PHOTOGRAPHY   7529865.0   \n",
       "Retrica                                             PHOTOGRAPHY   6120977.0   \n",
       "B612 - Beauty & Filter Camera                       PHOTOGRAPHY   5282578.0   \n",
       "...                                                         ...         ...   \n",
       "Touch DV                                            PHOTOGRAPHY         1.0   \n",
       "AI Image Recognizer (beta)                          PHOTOGRAPHY         0.0   \n",
       "BG Editor                                           PHOTOGRAPHY         0.0   \n",
       "LC-DB-LITE                                          PHOTOGRAPHY         0.0   \n",
       "Blender BG - Photo Blend With Background            PHOTOGRAPHY         0.0   \n",
       "\n",
       "                                                        installs  \n",
       "Google Photos                                       1.000000e+09  \n",
       "PicsArt Photo Studio: Collage Maker & Pic Editor    1.000000e+08  \n",
       "PhotoGrid: Video & Pic Collage Maker, Photo Editor  1.000000e+08  \n",
       "Retrica                                             1.000000e+08  \n",
       "B612 - Beauty & Filter Camera                       1.000000e+08  \n",
       "...                                                          ...  \n",
       "Touch DV                                            5.000000e+01  \n",
       "AI Image Recognizer (beta)                          5.000000e+02  \n",
       "BG Editor                                           5.000000e+00  \n",
       "LC-DB-LITE                                          1.000000e+02  \n",
       "Blender BG - Photo Blend With Background            1.000000e+02  \n",
       "\n",
       "[261 rows x 4 columns]"
      ]
     },
     "execution_count": 47,
     "metadata": {},
     "output_type": "execute_result"
    }
   ],
   "source": [
    "top_photography = android2[android2['category'] == 'PHOTOGRAPHY'].sort_values('reviews', ascending = False)\n",
    "top_photography"
   ]
  },
  {
   "cell_type": "code",
   "execution_count": 48,
   "id": "657cee2e",
   "metadata": {},
   "outputs": [
    {
     "data": {
      "text/html": [
       "<div>\n",
       "<style scoped>\n",
       "    .dataframe tbody tr th:only-of-type {\n",
       "        vertical-align: middle;\n",
       "    }\n",
       "\n",
       "    .dataframe tbody tr th {\n",
       "        vertical-align: top;\n",
       "    }\n",
       "\n",
       "    .dataframe thead th {\n",
       "        text-align: right;\n",
       "    }\n",
       "</style>\n",
       "<table border=\"1\" class=\"dataframe\">\n",
       "  <thead>\n",
       "    <tr style=\"text-align: right;\">\n",
       "      <th></th>\n",
       "      <th>app</th>\n",
       "      <th>category</th>\n",
       "      <th>reviews</th>\n",
       "      <th>installs</th>\n",
       "    </tr>\n",
       "  </thead>\n",
       "  <tbody>\n",
       "    <tr>\n",
       "      <th>Selfie Camera: Beauty Camera, Photo Editor,Collage</th>\n",
       "      <td>Selfie Camera: Beauty Camera, Photo Editor,Col...</td>\n",
       "      <td>PHOTOGRAPHY</td>\n",
       "      <td>31985.0</td>\n",
       "      <td>1000000.0</td>\n",
       "    </tr>\n",
       "    <tr>\n",
       "      <th>Camera51 - a smarter camera</th>\n",
       "      <td>Camera51 - a smarter camera</td>\n",
       "      <td>PHOTOGRAPHY</td>\n",
       "      <td>29707.0</td>\n",
       "      <td>1000000.0</td>\n",
       "    </tr>\n",
       "    <tr>\n",
       "      <th>Change photo background</th>\n",
       "      <td>Change photo background</td>\n",
       "      <td>PHOTOGRAPHY</td>\n",
       "      <td>28660.0</td>\n",
       "      <td>5000000.0</td>\n",
       "    </tr>\n",
       "    <tr>\n",
       "      <th>Photo Frames</th>\n",
       "      <td>Photo Frames</td>\n",
       "      <td>PHOTOGRAPHY</td>\n",
       "      <td>28578.0</td>\n",
       "      <td>10000000.0</td>\n",
       "    </tr>\n",
       "    <tr>\n",
       "      <th>Ghost In Photo</th>\n",
       "      <td>Ghost In Photo</td>\n",
       "      <td>PHOTOGRAPHY</td>\n",
       "      <td>28429.0</td>\n",
       "      <td>5000000.0</td>\n",
       "    </tr>\n",
       "    <tr>\n",
       "      <th>Adobe Photoshop Fix</th>\n",
       "      <td>Adobe Photoshop Fix</td>\n",
       "      <td>PHOTOGRAPHY</td>\n",
       "      <td>28390.0</td>\n",
       "      <td>5000000.0</td>\n",
       "    </tr>\n",
       "    <tr>\n",
       "      <th>HD Camera - silent shutter</th>\n",
       "      <td>HD Camera - silent shutter</td>\n",
       "      <td>PHOTOGRAPHY</td>\n",
       "      <td>26530.0</td>\n",
       "      <td>1000000.0</td>\n",
       "    </tr>\n",
       "    <tr>\n",
       "      <th>Pretty Makeup, Beauty Photo Editor &amp; Snappy Camera</th>\n",
       "      <td>Pretty Makeup, Beauty Photo Editor &amp; Snappy Ca...</td>\n",
       "      <td>PHOTOGRAPHY</td>\n",
       "      <td>26361.0</td>\n",
       "      <td>5000000.0</td>\n",
       "    </tr>\n",
       "    <tr>\n",
       "      <th>Thumbnail Maker</th>\n",
       "      <td>Thumbnail Maker</td>\n",
       "      <td>PHOTOGRAPHY</td>\n",
       "      <td>26252.0</td>\n",
       "      <td>1000000.0</td>\n",
       "    </tr>\n",
       "    <tr>\n",
       "      <th>KVAD Camera +: Selfie, Photo Filter, Grids</th>\n",
       "      <td>KVAD Camera +: Selfie, Photo Filter, Grids</td>\n",
       "      <td>PHOTOGRAPHY</td>\n",
       "      <td>23440.0</td>\n",
       "      <td>1000000.0</td>\n",
       "    </tr>\n",
       "  </tbody>\n",
       "</table>\n",
       "</div>"
      ],
      "text/plain": [
       "                                                                                                  app  \\\n",
       "Selfie Camera: Beauty Camera, Photo Editor,Collage  Selfie Camera: Beauty Camera, Photo Editor,Col...   \n",
       "Camera51 - a smarter camera                                               Camera51 - a smarter camera   \n",
       "Change photo background                                                       Change photo background   \n",
       "Photo Frames                                                                             Photo Frames   \n",
       "Ghost In Photo                                                                         Ghost In Photo   \n",
       "Adobe Photoshop Fix                                                               Adobe Photoshop Fix   \n",
       "HD Camera - silent shutter                                                 HD Camera - silent shutter   \n",
       "Pretty Makeup, Beauty Photo Editor & Snappy Camera  Pretty Makeup, Beauty Photo Editor & Snappy Ca...   \n",
       "Thumbnail Maker                                                                       Thumbnail Maker   \n",
       "KVAD Camera +: Selfie, Photo Filter, Grids                 KVAD Camera +: Selfie, Photo Filter, Grids   \n",
       "\n",
       "                                                       category  reviews  \\\n",
       "Selfie Camera: Beauty Camera, Photo Editor,Collage  PHOTOGRAPHY  31985.0   \n",
       "Camera51 - a smarter camera                         PHOTOGRAPHY  29707.0   \n",
       "Change photo background                             PHOTOGRAPHY  28660.0   \n",
       "Photo Frames                                        PHOTOGRAPHY  28578.0   \n",
       "Ghost In Photo                                      PHOTOGRAPHY  28429.0   \n",
       "Adobe Photoshop Fix                                 PHOTOGRAPHY  28390.0   \n",
       "HD Camera - silent shutter                          PHOTOGRAPHY  26530.0   \n",
       "Pretty Makeup, Beauty Photo Editor & Snappy Camera  PHOTOGRAPHY  26361.0   \n",
       "Thumbnail Maker                                     PHOTOGRAPHY  26252.0   \n",
       "KVAD Camera +: Selfie, Photo Filter, Grids          PHOTOGRAPHY  23440.0   \n",
       "\n",
       "                                                      installs  \n",
       "Selfie Camera: Beauty Camera, Photo Editor,Collage   1000000.0  \n",
       "Camera51 - a smarter camera                          1000000.0  \n",
       "Change photo background                              5000000.0  \n",
       "Photo Frames                                        10000000.0  \n",
       "Ghost In Photo                                       5000000.0  \n",
       "Adobe Photoshop Fix                                  5000000.0  \n",
       "HD Camera - silent shutter                           1000000.0  \n",
       "Pretty Makeup, Beauty Photo Editor & Snappy Camera   5000000.0  \n",
       "Thumbnail Maker                                      1000000.0  \n",
       "KVAD Camera +: Selfie, Photo Filter, Grids           1000000.0  "
      ]
     },
     "execution_count": 48,
     "metadata": {},
     "output_type": "execute_result"
    }
   ],
   "source": [
    "# Middle rows\n",
    "top_photography[130:140]"
   ]
  },
  {
   "cell_type": "code",
   "execution_count": 49,
   "id": "21229c55",
   "metadata": {},
   "outputs": [
    {
     "data": {
      "text/plain": [
       "339.5044864780366"
      ]
     },
     "execution_count": 49,
     "metadata": {},
     "output_type": "execute_result"
    }
   ],
   "source": [
    "# Difference in the number of reviews between the 1st and one of the apps in the middle of the list.\n",
    "\n",
    "int(top_photography[top_photography.app == 'Google Photos'].reviews)/int(top_photography[top_photography.app == 'Selfie Camera: Beauty Camera, Photo Editor,Collage'].reviews)"
   ]
  },
  {
   "cell_type": "code",
   "execution_count": 50,
   "id": "ba4227a7",
   "metadata": {},
   "outputs": [
    {
     "data": {
      "text/plain": [
       "1000.0"
      ]
     },
     "execution_count": 50,
     "metadata": {},
     "output_type": "execute_result"
    }
   ],
   "source": [
    "# Difference in the number of installs between the 1st and one of the apps in the middle of the list.\n",
    "\n",
    "int(top_photography[top_photography.app == 'Google Photos'].installs)/int(top_photography[top_photography.app == 'Selfie Camera: Beauty Camera, Photo Editor,Collage'].installs)"
   ]
  },
  {
   "cell_type": "markdown",
   "id": "a0be8286",
   "metadata": {},
   "source": [
    "<p style='background:yellow'>Now, the difference is much lower and more reliable in this category. Photography also does not appear in the list of common apps on Play Store. In fact, it only accounts for nearly 3% of the Google Play Store apps (as ​shown below). It can be a good category for the company to develop a new app. </p"
   ]
  },
  {
   "cell_type": "code",
   "execution_count": 51,
   "id": "222b600a",
   "metadata": {},
   "outputs": [
    {
     "data": {
      "text/plain": [
       "FAMILY                 18.93\n",
       "GAME                    9.69\n",
       "TOOLS                   8.45\n",
       "BUSINESS                4.59\n",
       "LIFESTYLE               3.90\n",
       "PRODUCTIVITY            3.89\n",
       "FINANCE                 3.70\n",
       "MEDICAL                 3.52\n",
       "SPORTS                  3.40\n",
       "PERSONALIZATION         3.32\n",
       "COMMUNICATION           3.24\n",
       "HEALTH_AND_FITNESS      3.08\n",
       "PHOTOGRAPHY             2.95\n",
       "NEWS_AND_MAGAZINES      2.80\n",
       "SOCIAL                  2.66\n",
       "TRAVEL_AND_LOCAL        2.34\n",
       "SHOPPING                2.25\n",
       "BOOKS_AND_REFERENCE     2.14\n",
       "DATING                  1.86\n",
       "VIDEO_PLAYERS           1.79\n",
       "Name: category, dtype: float64"
      ]
     },
     "execution_count": 51,
     "metadata": {},
     "output_type": "execute_result"
    }
   ],
   "source": [
    "most_common = round(android['category'].value_counts()/len(android)*100,2)\n",
    "most_common.head(20)"
   ]
  },
  {
   "cell_type": "markdown",
   "id": "48d05600",
   "metadata": {},
   "source": [
    "## IV. CONCLUSION"
   ]
  },
  {
   "cell_type": "markdown",
   "id": "548f1ade",
   "metadata": {},
   "source": [
    "<p style=\"font-size:113%;\"> In this project, we analyzed the Google Play Store apps list with the goal of recommending an app profile that can be profitable for the market. Considering the average of app ratings, installs, and the market's competition, we concluded that there might be a potential to develop a photography app since the market is not saturated, and the data seems reliable, not to be skewed by some over-popular apps.</p>"
   ]
  }
 ],
 "metadata": {
  "kernelspec": {
   "display_name": "Python 3",
   "language": "python",
   "name": "python3"
  },
  "language_info": {
   "codemirror_mode": {
    "name": "ipython",
    "version": 3
   },
   "file_extension": ".py",
   "mimetype": "text/x-python",
   "name": "python",
   "nbconvert_exporter": "python",
   "pygments_lexer": "ipython3",
   "version": "3.8.8"
  }
 },
 "nbformat": 4,
 "nbformat_minor": 5
}
